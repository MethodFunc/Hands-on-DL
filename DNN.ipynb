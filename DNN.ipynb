{
 "cells": [
  {
   "cell_type": "code",
   "execution_count": 1,
   "metadata": {},
   "outputs": [],
   "source": [
    "import pandas as pd\n",
    "import numpy as np\n",
    "import matplotlib.pyplot as plt\n",
    "import tensorflow"
   ]
  },
  {
   "cell_type": "code",
   "execution_count": 2,
   "metadata": {},
   "outputs": [],
   "source": [
    "from tensorflow import keras"
   ]
  },
  {
   "cell_type": "code",
   "execution_count": 3,
   "metadata": {},
   "outputs": [],
   "source": [
    "(x_train_full, y_train_full),(x_test, y_test) = keras.datasets.fashion_mnist.load_data()\n",
    "x_train_full, x_test = x_train_full / 255.0, x_test / 255.0\n",
    "x_valid, x_train = x_train_full[:5000], x_train_full[5000:]\n",
    "y_valid, y_train = y_train_full[:5000], y_train_full[5000:]"
   ]
  },
  {
   "cell_type": "markdown",
   "metadata": {},
   "source": [
    "## 활성화 함수"
   ]
  },
  {
   "cell_type": "code",
   "execution_count": 4,
   "metadata": {
    "scrolled": true
   },
   "outputs": [
    {
     "data": {
      "text/plain": [
       "\"\\n# SELU 활성화\\nmodel = keras.models.Sequential([\\n    keras.layers.Dense(10, activation='selu', kernel_initializer='lecun_normal'),\\n])\\n\""
      ]
     },
     "execution_count": 4,
     "metadata": {},
     "output_type": "execute_result"
    }
   ],
   "source": [
    "''' \n",
    "## 활성화 함수\n",
    "# HE init\n",
    "keras.layers.Dense(10, activation='relu', kernel_initializer='he_noraml')\n",
    "\n",
    "# fan out HE init\n",
    "he_avg_init = keras.initializers.VarianceScaling(scale=2., mode='fan_avg', distribution='uniform')\n",
    "keras.layers.Dense(10, activation='sigmoid', kernel_initializer=he_avg_init)\n",
    "'''\n",
    "'''\n",
    "# LeakyReLU 활성화\n",
    "model = keras.models.Sequential([\n",
    "    keras.layers.Dense(10, kernel_initializer='he_normal'),\n",
    "    keras.layers.LeakyReLU(alpha=0.2),\n",
    "])\n",
    "'''\n",
    "'''\n",
    "# SELU 활성화\n",
    "model = keras.models.Sequential([\n",
    "    keras.layers.Dense(10, activation='selu', kernel_initializer='lecun_normal'),\n",
    "])\n",
    "'''"
   ]
  },
  {
   "cell_type": "code",
   "execution_count": 4,
   "metadata": {},
   "outputs": [],
   "source": [
    "def modelcompile(model):\n",
    "        model.compile(loss = keras.losses.sparse_categorical_crossentropy, \n",
    "                  optimizer = keras.optimizers.SGD(1e-3),\n",
    "                 metrics=[keras.metrics.sparse_categorical_accuracy])\n"
   ]
  },
  {
   "cell_type": "code",
   "execution_count": 5,
   "metadata": {},
   "outputs": [],
   "source": [
    "# LeakyReLU 활성화\n",
    "model = keras.models.Sequential([\n",
    "    keras.layers.Flatten(input_shape=[28, 28]),\n",
    "    keras.layers.Dense(300, kernel_initializer='he_normal'),\n",
    "    keras.layers.LeakyReLU(),\n",
    "    keras.layers.Dense(100, kernel_initializer='he_normal'),\n",
    "    keras.layers.LeakyReLU(),\n",
    "    keras.layers.Dense(10, activation='softmax')\n",
    "])"
   ]
  },
  {
   "cell_type": "code",
   "execution_count": 6,
   "metadata": {},
   "outputs": [],
   "source": [
    "modelcompile(model)"
   ]
  },
  {
   "cell_type": "code",
   "execution_count": 7,
   "metadata": {},
   "outputs": [
    {
     "name": "stdout",
     "output_type": "stream",
     "text": [
      "Train on 55000 samples, validate on 5000 samples\n",
      "Epoch 1/10\n",
      "55000/55000 [==============================] - 2s 44us/sample - loss: 1.2661 - sparse_categorical_accuracy: 0.6229 - val_loss: 0.8618 - val_sparse_categorical_accuracy: 0.7302\n",
      "Epoch 2/10\n",
      "55000/55000 [==============================] - 2s 38us/sample - loss: 0.7816 - sparse_categorical_accuracy: 0.7429 - val_loss: 0.7038 - val_sparse_categorical_accuracy: 0.7764\n",
      "Epoch 3/10\n",
      "55000/55000 [==============================] - 2s 39us/sample - loss: 0.6748 - sparse_categorical_accuracy: 0.7756 - val_loss: 0.6310 - val_sparse_categorical_accuracy: 0.7916\n",
      "Epoch 4/10\n",
      "55000/55000 [==============================] - 2s 39us/sample - loss: 0.6187 - sparse_categorical_accuracy: 0.7940 - val_loss: 0.5859 - val_sparse_categorical_accuracy: 0.8130\n",
      "Epoch 5/10\n",
      "55000/55000 [==============================] - 2s 42us/sample - loss: 0.5823 - sparse_categorical_accuracy: 0.8051 - val_loss: 0.5577 - val_sparse_categorical_accuracy: 0.8216\n",
      "Epoch 6/10\n",
      "55000/55000 [==============================] - 2s 43us/sample - loss: 0.5563 - sparse_categorical_accuracy: 0.8136 - val_loss: 0.5378 - val_sparse_categorical_accuracy: 0.8246\n",
      "Epoch 7/10\n",
      "55000/55000 [==============================] - 2s 41us/sample - loss: 0.5365 - sparse_categorical_accuracy: 0.8200 - val_loss: 0.5191 - val_sparse_categorical_accuracy: 0.8318\n",
      "Epoch 8/10\n",
      "55000/55000 [==============================] - 2s 39us/sample - loss: 0.5204 - sparse_categorical_accuracy: 0.8241 - val_loss: 0.5069 - val_sparse_categorical_accuracy: 0.8368\n",
      "Epoch 9/10\n",
      "55000/55000 [==============================] - 2s 39us/sample - loss: 0.5077 - sparse_categorical_accuracy: 0.8275 - val_loss: 0.4924 - val_sparse_categorical_accuracy: 0.8384\n",
      "Epoch 10/10\n",
      "55000/55000 [==============================] - 2s 40us/sample - loss: 0.4965 - sparse_categorical_accuracy: 0.8307 - val_loss: 0.4852 - val_sparse_categorical_accuracy: 0.8388\n"
     ]
    }
   ],
   "source": [
    "history = model.fit(x_train, y_train, epochs=10, validation_data=(x_valid, y_valid))"
   ]
  },
  {
   "cell_type": "code",
   "execution_count": 110,
   "metadata": {},
   "outputs": [],
   "source": [
    "# PReLU 활성화\n",
    "model = keras.models.Sequential([\n",
    "    keras.layers.Flatten(input_shape=[28, 28]),\n",
    "    keras.layers.Dense(300, kernel_initializer='he_normal'),\n",
    "    keras.layers.PReLU(),\n",
    "    keras.layers.Dense(100, kernel_initializer='he_normal'),\n",
    "    keras.layers.PReLU(),\n",
    "    keras.layers.Dense(10, activation='softmax')\n",
    "])"
   ]
  },
  {
   "cell_type": "code",
   "execution_count": 111,
   "metadata": {},
   "outputs": [],
   "source": [
    "modelcompile(model)"
   ]
  },
  {
   "cell_type": "code",
   "execution_count": null,
   "metadata": {},
   "outputs": [
    {
     "name": "stdout",
     "output_type": "stream",
     "text": [
      "Train on 55000 samples, validate on 5000 samples\n",
      "Epoch 1/10\n",
      "55000/55000 [==============================] - 2s 42us/sample - loss: 1.2949 - sparse_categorical_accuracy: 0.6155 - val_loss: 0.8806 - val_sparse_categorical_accuracy: 0.7258\n",
      "Epoch 2/10\n",
      "55000/55000 [==============================] - 2s 37us/sample - loss: 0.7959 - sparse_categorical_accuracy: 0.7449 - val_loss: 0.7106 - val_sparse_categorical_accuracy: 0.7742\n",
      "Epoch 3/10\n",
      "53504/55000 [============================>.] - ETA: 0s - loss: 0.6842 - sparse_categorical_accuracy: 0.7786"
     ]
    }
   ],
   "source": [
    "history2 = model.fit(x_train, y_train, epochs = 10, validation_data=(x_valid, y_valid))"
   ]
  },
  {
   "cell_type": "code",
   "execution_count": 12,
   "metadata": {},
   "outputs": [],
   "source": [
    "# SELU\n",
    "model = keras.models.Sequential()\n",
    "model.add(keras.layers.Flatten(input_shape=[28, 28]))\n",
    "model.add(keras.layers.Dense(300, activation='selu', kernel_initializer='lecun_normal'))\n",
    "\n",
    "for layer in range(99):\n",
    "    model.add(keras.layers.Dense(100, activation='selu', kernel_initializer='lecun_normal'))\n",
    "model.add(keras.layers.Dense(10, activation='softmax'))"
   ]
  },
  {
   "cell_type": "code",
   "execution_count": 13,
   "metadata": {},
   "outputs": [
    {
     "data": {
      "text/plain": [
       "<tensorflow.python.keras.engine.sequential.Sequential at 0x1571241d588>"
      ]
     },
     "execution_count": 13,
     "metadata": {},
     "output_type": "execute_result"
    }
   ],
   "source": [
    "modelcompile(model)"
   ]
  },
  {
   "cell_type": "code",
   "execution_count": 14,
   "metadata": {},
   "outputs": [],
   "source": [
    "# 이제 훈련해 보죠. 입력을 평균 0과 표준 편차 1로 바꾸어야 한다는 것을 잊지 마세요:\n",
    "pixel_means = x_train.mean(axis=0, keepdims=True)\n",
    "pixel_stds = x_train.std(axis=0, keepdims=True)"
   ]
  },
  {
   "cell_type": "code",
   "execution_count": 15,
   "metadata": {},
   "outputs": [],
   "source": [
    "x_train_scaled = (x_train - pixel_means) / pixel_stds\n",
    "x_valid_scaled = (x_valid - pixel_means) / pixel_stds\n",
    "x_test_scaled = (x_test - pixel_means) / pixel_stds"
   ]
  },
  {
   "cell_type": "code",
   "execution_count": 16,
   "metadata": {},
   "outputs": [
    {
     "name": "stdout",
     "output_type": "stream",
     "text": [
      "Train on 55000 samples, validate on 5000 samples\n",
      "Epoch 1/5\n",
      "55000/55000 [==============================] - 15s 280us/sample - loss: 1.2270 - sparse_categorical_accuracy: 0.5284 - val_loss: 0.9843 - val_sparse_categorical_accuracy: 0.6518\n",
      "Epoch 2/5\n",
      "55000/55000 [==============================] - 13s 243us/sample - loss: 0.7812 - sparse_categorical_accuracy: 0.7162 - val_loss: 0.6596 - val_sparse_categorical_accuracy: 0.7604\n",
      "Epoch 3/5\n",
      "55000/55000 [==============================] - 14s 250us/sample - loss: 0.6517 - sparse_categorical_accuracy: 0.7650 - val_loss: 0.6367 - val_sparse_categorical_accuracy: 0.7696\n",
      "Epoch 4/5\n",
      "55000/55000 [==============================] - 13s 240us/sample - loss: 0.6248 - sparse_categorical_accuracy: 0.7795 - val_loss: 0.5482 - val_sparse_categorical_accuracy: 0.8060\n",
      "Epoch 5/5\n",
      "55000/55000 [==============================] - 13s 241us/sample - loss: 0.6069 - sparse_categorical_accuracy: 0.7899 - val_loss: 0.6136 - val_sparse_categorical_accuracy: 0.7898\n"
     ]
    }
   ],
   "source": [
    "history = model.fit(x_train_scaled, y_train, epochs = 5, validation_data=(x_valid_scaled, y_valid) )"
   ]
  },
  {
   "cell_type": "code",
   "execution_count": 17,
   "metadata": {},
   "outputs": [],
   "source": [
    "model = keras.models.Sequential()\n",
    "model.add(keras.layers.Flatten(input_shape=[28, 28]))\n",
    "model.add(keras.layers.Dense(300, activation='relu', kernel_initializer='he_normal'))\n",
    "for layer in range(99):\n",
    "    model.add(keras.layers.Dense(100, activation='relu', kernel_initializer='he_normal'))\n",
    "model.add(keras.layers.Dense(10, activation='softmax'))"
   ]
  },
  {
   "cell_type": "code",
   "execution_count": 18,
   "metadata": {},
   "outputs": [
    {
     "data": {
      "text/plain": [
       "<tensorflow.python.keras.engine.sequential.Sequential at 0x15732027108>"
      ]
     },
     "execution_count": 18,
     "metadata": {},
     "output_type": "execute_result"
    }
   ],
   "source": [
    "modelcompile(model)"
   ]
  },
  {
   "cell_type": "code",
   "execution_count": 19,
   "metadata": {},
   "outputs": [
    {
     "name": "stdout",
     "output_type": "stream",
     "text": [
      "Train on 55000 samples, validate on 5000 samples\n",
      "Epoch 1/5\n",
      "55000/55000 [==============================] - 13s 242us/sample - loss: 1.9406 - sparse_categorical_accuracy: 0.2599 - val_loss: 1.9570 - val_sparse_categorical_accuracy: 0.2394\n",
      "Epoch 2/5\n",
      "55000/55000 [==============================] - 11s 202us/sample - loss: 1.3449 - sparse_categorical_accuracy: 0.4602 - val_loss: 0.9059 - val_sparse_categorical_accuracy: 0.6606\n",
      "Epoch 3/5\n",
      "55000/55000 [==============================] - 11s 206us/sample - loss: 0.9194 - sparse_categorical_accuracy: 0.6304 - val_loss: 0.9223 - val_sparse_categorical_accuracy: 0.6374\n",
      "Epoch 4/5\n",
      "55000/55000 [==============================] - 11s 202us/sample - loss: 1.0759 - sparse_categorical_accuracy: 0.5682 - val_loss: 0.9257 - val_sparse_categorical_accuracy: 0.6042\n",
      "Epoch 5/5\n",
      "55000/55000 [==============================] - 11s 201us/sample - loss: 0.7768 - sparse_categorical_accuracy: 0.6842 - val_loss: 0.7739 - val_sparse_categorical_accuracy: 0.7000\n"
     ]
    }
   ],
   "source": [
    "history = model.fit(x_train_scaled, y_train, epochs = 5, validation_data = (x_valid_scaled, y_valid))"
   ]
  },
  {
   "cell_type": "markdown",
   "metadata": {},
   "source": [
    "## Batch Nomarlizaion"
   ]
  },
  {
   "cell_type": "code",
   "execution_count": 20,
   "metadata": {},
   "outputs": [],
   "source": [
    "# Batch Nomarlization #1\n",
    "model = keras.models.Sequential([\n",
    "    keras.layers.Flatten(input_shape=[28, 28]),\n",
    "    keras.layers.BatchNormalization(),\n",
    "    keras.layers.Dense(300, activation='relu'),\n",
    "    keras.layers.BatchNormalization(),\n",
    "    keras.layers.Dense(100, activation='relu'),\n",
    "    keras.layers.BatchNormalization(),\n",
    "    keras.layers.Dense(10, activation='softmax'),\n",
    "])"
   ]
  },
  {
   "cell_type": "code",
   "execution_count": 21,
   "metadata": {},
   "outputs": [
    {
     "name": "stdout",
     "output_type": "stream",
     "text": [
      "Model: \"sequential_4\"\n",
      "_________________________________________________________________\n",
      "Layer (type)                 Output Shape              Param #   \n",
      "=================================================================\n",
      "flatten_4 (Flatten)          (None, 784)               0         \n",
      "_________________________________________________________________\n",
      "batch_normalization (BatchNo (None, 784)               3136      \n",
      "_________________________________________________________________\n",
      "dense_208 (Dense)            (None, 300)               235500    \n",
      "_________________________________________________________________\n",
      "batch_normalization_1 (Batch (None, 300)               1200      \n",
      "_________________________________________________________________\n",
      "dense_209 (Dense)            (None, 100)               30100     \n",
      "_________________________________________________________________\n",
      "batch_normalization_2 (Batch (None, 100)               400       \n",
      "_________________________________________________________________\n",
      "dense_210 (Dense)            (None, 10)                1010      \n",
      "=================================================================\n",
      "Total params: 271,346\n",
      "Trainable params: 268,978\n",
      "Non-trainable params: 2,368\n",
      "_________________________________________________________________\n"
     ]
    }
   ],
   "source": [
    "model.summary()"
   ]
  },
  {
   "cell_type": "code",
   "execution_count": 22,
   "metadata": {},
   "outputs": [
    {
     "data": {
      "text/plain": [
       "<tensorflow.python.keras.engine.sequential.Sequential at 0x1573b6923c8>"
      ]
     },
     "execution_count": 22,
     "metadata": {},
     "output_type": "execute_result"
    }
   ],
   "source": [
    "modelcompile(model)"
   ]
  },
  {
   "cell_type": "code",
   "execution_count": 23,
   "metadata": {
    "scrolled": true
   },
   "outputs": [
    {
     "name": "stdout",
     "output_type": "stream",
     "text": [
      "Train on 55000 samples, validate on 5000 samples\n",
      "Epoch 1/10\n",
      "55000/55000 [==============================] - 4s 64us/sample - loss: 0.8406 - sparse_categorical_accuracy: 0.7154 - val_loss: 0.5499 - val_sparse_categorical_accuracy: 0.8150\n",
      "Epoch 2/10\n",
      "55000/55000 [==============================] - 3s 54us/sample - loss: 0.5718 - sparse_categorical_accuracy: 0.8041 - val_loss: 0.4775 - val_sparse_categorical_accuracy: 0.8344\n",
      "Epoch 3/10\n",
      "55000/55000 [==============================] - 3s 54us/sample - loss: 0.5133 - sparse_categorical_accuracy: 0.8219 - val_loss: 0.4398 - val_sparse_categorical_accuracy: 0.8470\n",
      "Epoch 4/10\n",
      "55000/55000 [==============================] - 3s 56us/sample - loss: 0.4796 - sparse_categorical_accuracy: 0.8330 - val_loss: 0.4214 - val_sparse_categorical_accuracy: 0.8512\n",
      "Epoch 5/10\n",
      "55000/55000 [==============================] - 3s 55us/sample - loss: 0.4563 - sparse_categorical_accuracy: 0.8405 - val_loss: 0.4050 - val_sparse_categorical_accuracy: 0.8584\n",
      "Epoch 6/10\n",
      "55000/55000 [==============================] - 3s 54us/sample - loss: 0.4368 - sparse_categorical_accuracy: 0.8469 - val_loss: 0.3914 - val_sparse_categorical_accuracy: 0.8628\n",
      "Epoch 7/10\n",
      "55000/55000 [==============================] - 3s 54us/sample - loss: 0.4220 - sparse_categorical_accuracy: 0.8510 - val_loss: 0.3825 - val_sparse_categorical_accuracy: 0.8660\n",
      "Epoch 8/10\n",
      "55000/55000 [==============================] - 3s 54us/sample - loss: 0.4107 - sparse_categorical_accuracy: 0.8558 - val_loss: 0.3741 - val_sparse_categorical_accuracy: 0.8692\n",
      "Epoch 9/10\n",
      "55000/55000 [==============================] - 3s 53us/sample - loss: 0.4001 - sparse_categorical_accuracy: 0.8588 - val_loss: 0.3682 - val_sparse_categorical_accuracy: 0.8710\n",
      "Epoch 10/10\n",
      "55000/55000 [==============================] - 3s 54us/sample - loss: 0.3892 - sparse_categorical_accuracy: 0.8627 - val_loss: 0.3624 - val_sparse_categorical_accuracy: 0.8728\n"
     ]
    }
   ],
   "source": [
    "history = model.fit(x_train, y_train, epochs = 10, validation_data=(x_valid, y_valid))"
   ]
  },
  {
   "cell_type": "code",
   "execution_count": 24,
   "metadata": {},
   "outputs": [],
   "source": [
    "# Batch Nomarlization #2\n",
    "model = keras.models.Sequential([\n",
    "    keras.layers.Flatten(input_shape=[28, 28]),\n",
    "    keras.layers.BatchNormalization(),\n",
    "    keras.layers.Dense(300, use_bias=False),\n",
    "    keras.layers.BatchNormalization(),\n",
    "    keras.layers.Activation('relu'),\n",
    "    keras.layers.Dense(100, use_bias=False),\n",
    "    keras.layers.BatchNormalization(),\n",
    "    keras.layers.Activation('relu'),\n",
    "    keras.layers.Dense(10, activation='softmax'),    \n",
    "])"
   ]
  },
  {
   "cell_type": "code",
   "execution_count": 25,
   "metadata": {
    "scrolled": true
   },
   "outputs": [
    {
     "name": "stdout",
     "output_type": "stream",
     "text": [
      "Train on 55000 samples, validate on 5000 samples\n",
      "Epoch 1/10\n",
      "55000/55000 [==============================] - 3s 63us/sample - loss: 1.0667 - sparse_categorical_accuracy: 0.6676 - val_loss: 0.6909 - val_sparse_categorical_accuracy: 0.7860\n",
      "Epoch 2/10\n",
      "55000/55000 [==============================] - 3s 54us/sample - loss: 0.6911 - sparse_categorical_accuracy: 0.7787 - val_loss: 0.5654 - val_sparse_categorical_accuracy: 0.8174\n",
      "Epoch 3/10\n",
      "55000/55000 [==============================] - 3s 54us/sample - loss: 0.6013 - sparse_categorical_accuracy: 0.8031 - val_loss: 0.5067 - val_sparse_categorical_accuracy: 0.8354\n",
      "Epoch 4/10\n",
      "55000/55000 [==============================] - 3s 53us/sample - loss: 0.5494 - sparse_categorical_accuracy: 0.8168 - val_loss: 0.4718 - val_sparse_categorical_accuracy: 0.8472\n",
      "Epoch 5/10\n",
      "55000/55000 [==============================] - 3s 53us/sample - loss: 0.5185 - sparse_categorical_accuracy: 0.8252 - val_loss: 0.4478 - val_sparse_categorical_accuracy: 0.8520\n",
      "Epoch 6/10\n",
      "55000/55000 [==============================] - 3s 53us/sample - loss: 0.4924 - sparse_categorical_accuracy: 0.8328 - val_loss: 0.4294 - val_sparse_categorical_accuracy: 0.8546\n",
      "Epoch 7/10\n",
      "55000/55000 [==============================] - 3s 53us/sample - loss: 0.4753 - sparse_categorical_accuracy: 0.8386 - val_loss: 0.4162 - val_sparse_categorical_accuracy: 0.8586\n",
      "Epoch 8/10\n",
      "55000/55000 [==============================] - 3s 54us/sample - loss: 0.4595 - sparse_categorical_accuracy: 0.8420 - val_loss: 0.4054 - val_sparse_categorical_accuracy: 0.8612\n",
      "Epoch 9/10\n",
      "55000/55000 [==============================] - 3s 53us/sample - loss: 0.4470 - sparse_categorical_accuracy: 0.8450 - val_loss: 0.3961 - val_sparse_categorical_accuracy: 0.8618\n",
      "Epoch 10/10\n",
      "55000/55000 [==============================] - 3s 54us/sample - loss: 0.4361 - sparse_categorical_accuracy: 0.8492 - val_loss: 0.3881 - val_sparse_categorical_accuracy: 0.8676\n"
     ]
    }
   ],
   "source": [
    "modelcompile(model)\n",
    "history = model.fit(x_train, y_train, epochs = 10, validation_data=(x_valid, y_valid))"
   ]
  },
  {
   "cell_type": "code",
   "execution_count": 26,
   "metadata": {},
   "outputs": [],
   "source": [
    "# Batch Nomarlization #3\n",
    "model = keras.models.Sequential([\n",
    "    keras.layers.Flatten(input_shape=[28, 28]),\n",
    "    keras.layers.BatchNormalization(),\n",
    "    keras.layers.Dense(300, activation='elu', kernel_initializer='he_normal'),\n",
    "    keras.layers.BatchNormalization(),\n",
    "    keras.layers.Dense(100, activation='elu', kernel_initializer='he_normal'),\n",
    "    keras.layers.BatchNormalization(),\n",
    "    keras.layers.Dense(10, activation='softmax'),\n",
    "])"
   ]
  },
  {
   "cell_type": "code",
   "execution_count": 27,
   "metadata": {
    "scrolled": true
   },
   "outputs": [
    {
     "name": "stdout",
     "output_type": "stream",
     "text": [
      "Model: \"sequential_6\"\n",
      "_________________________________________________________________\n",
      "Layer (type)                 Output Shape              Param #   \n",
      "=================================================================\n",
      "flatten_6 (Flatten)          (None, 784)               0         \n",
      "_________________________________________________________________\n",
      "batch_normalization_6 (Batch (None, 784)               3136      \n",
      "_________________________________________________________________\n",
      "dense_214 (Dense)            (None, 300)               235500    \n",
      "_________________________________________________________________\n",
      "batch_normalization_7 (Batch (None, 300)               1200      \n",
      "_________________________________________________________________\n",
      "dense_215 (Dense)            (None, 100)               30100     \n",
      "_________________________________________________________________\n",
      "batch_normalization_8 (Batch (None, 100)               400       \n",
      "_________________________________________________________________\n",
      "dense_216 (Dense)            (None, 10)                1010      \n",
      "=================================================================\n",
      "Total params: 271,346\n",
      "Trainable params: 268,978\n",
      "Non-trainable params: 2,368\n",
      "_________________________________________________________________\n"
     ]
    }
   ],
   "source": [
    "model.summary()"
   ]
  },
  {
   "cell_type": "code",
   "execution_count": 28,
   "metadata": {},
   "outputs": [
    {
     "data": {
      "text/plain": [
       "[('batch_normalization_6/gamma:0', True),\n",
       " ('batch_normalization_6/beta:0', True),\n",
       " ('batch_normalization_6/moving_mean:0', False),\n",
       " ('batch_normalization_6/moving_variance:0', False)]"
      ]
     },
     "execution_count": 28,
     "metadata": {},
     "output_type": "execute_result"
    }
   ],
   "source": [
    "[(var.name, var.trainable) for var in model.layers[1].variables]"
   ]
  },
  {
   "cell_type": "code",
   "execution_count": 29,
   "metadata": {},
   "outputs": [
    {
     "data": {
      "text/plain": [
       "[<tf.Operation 'cond/Identity' type=Identity>,\n",
       " <tf.Operation 'cond_1/Identity' type=Identity>]"
      ]
     },
     "execution_count": 29,
     "metadata": {},
     "output_type": "execute_result"
    }
   ],
   "source": [
    "model.layers[1].updates"
   ]
  },
  {
   "cell_type": "code",
   "execution_count": 30,
   "metadata": {},
   "outputs": [
    {
     "name": "stdout",
     "output_type": "stream",
     "text": [
      "Train on 55000 samples, validate on 5000 samples\n",
      "Epoch 1/10\n",
      "55000/55000 [==============================] - 4s 65us/sample - loss: 0.8502 - sparse_categorical_accuracy: 0.7091 - val_loss: 0.5834 - val_sparse_categorical_accuracy: 0.8028\n",
      "Epoch 2/10\n",
      "55000/55000 [==============================] - 3s 56us/sample - loss: 0.5960 - sparse_categorical_accuracy: 0.7931 - val_loss: 0.5039 - val_sparse_categorical_accuracy: 0.8264\n",
      "Epoch 3/10\n",
      "55000/55000 [==============================] - 3s 56us/sample - loss: 0.5384 - sparse_categorical_accuracy: 0.8120 - val_loss: 0.4694 - val_sparse_categorical_accuracy: 0.8412\n",
      "Epoch 4/10\n",
      "55000/55000 [==============================] - 3s 56us/sample - loss: 0.5070 - sparse_categorical_accuracy: 0.8238 - val_loss: 0.4470 - val_sparse_categorical_accuracy: 0.8498\n",
      "Epoch 5/10\n",
      "55000/55000 [==============================] - 3s 58us/sample - loss: 0.4861 - sparse_categorical_accuracy: 0.8297 - val_loss: 0.4335 - val_sparse_categorical_accuracy: 0.8528\n",
      "Epoch 6/10\n",
      "55000/55000 [==============================] - 3s 56us/sample - loss: 0.4699 - sparse_categorical_accuracy: 0.8351 - val_loss: 0.4221 - val_sparse_categorical_accuracy: 0.8552\n",
      "Epoch 7/10\n",
      "55000/55000 [==============================] - 3s 56us/sample - loss: 0.4577 - sparse_categorical_accuracy: 0.8375 - val_loss: 0.4126 - val_sparse_categorical_accuracy: 0.8582\n",
      "Epoch 8/10\n",
      "55000/55000 [==============================] - 3s 56us/sample - loss: 0.4466 - sparse_categorical_accuracy: 0.8434 - val_loss: 0.4058 - val_sparse_categorical_accuracy: 0.8572\n",
      "Epoch 9/10\n",
      "55000/55000 [==============================] - 3s 56us/sample - loss: 0.4399 - sparse_categorical_accuracy: 0.8449 - val_loss: 0.3993 - val_sparse_categorical_accuracy: 0.8610\n",
      "Epoch 10/10\n",
      "55000/55000 [==============================] - 3s 55us/sample - loss: 0.4294 - sparse_categorical_accuracy: 0.8486 - val_loss: 0.3923 - val_sparse_categorical_accuracy: 0.8646\n"
     ]
    }
   ],
   "source": [
    "modelcompile(model)\n",
    "history = model.fit(x_train, y_train, epochs = 10, validation_data=(x_valid, y_valid))"
   ]
  },
  {
   "cell_type": "code",
   "execution_count": 31,
   "metadata": {},
   "outputs": [],
   "source": [
    "# Batch Nomarlization #4\n",
    "model = keras.models.Sequential([\n",
    "    keras.layers.Flatten(input_shape=[28, 28]),\n",
    "    keras.layers.BatchNormalization(),\n",
    "    keras.layers.Dense(300, kernel_initializer='he_normal', use_bias=False),\n",
    "    keras.layers.BatchNormalization(),\n",
    "    keras.layers.Activation('elu'),\n",
    "    keras.layers.Dense(100, kernel_initializer='he_normal', use_bias=False),\n",
    "    keras.layers.BatchNormalization(),\n",
    "    keras.layers.Activation('elu'),\n",
    "    keras.layers.Dense(10, activation='softmax'),    \n",
    "])"
   ]
  },
  {
   "cell_type": "code",
   "execution_count": 32,
   "metadata": {
    "scrolled": true
   },
   "outputs": [
    {
     "name": "stdout",
     "output_type": "stream",
     "text": [
      "Model: \"sequential_7\"\n",
      "_________________________________________________________________\n",
      "Layer (type)                 Output Shape              Param #   \n",
      "=================================================================\n",
      "flatten_7 (Flatten)          (None, 784)               0         \n",
      "_________________________________________________________________\n",
      "batch_normalization_9 (Batch (None, 784)               3136      \n",
      "_________________________________________________________________\n",
      "dense_217 (Dense)            (None, 300)               235200    \n",
      "_________________________________________________________________\n",
      "batch_normalization_10 (Batc (None, 300)               1200      \n",
      "_________________________________________________________________\n",
      "activation_2 (Activation)    (None, 300)               0         \n",
      "_________________________________________________________________\n",
      "dense_218 (Dense)            (None, 100)               30000     \n",
      "_________________________________________________________________\n",
      "batch_normalization_11 (Batc (None, 100)               400       \n",
      "_________________________________________________________________\n",
      "activation_3 (Activation)    (None, 100)               0         \n",
      "_________________________________________________________________\n",
      "dense_219 (Dense)            (None, 10)                1010      \n",
      "=================================================================\n",
      "Total params: 270,946\n",
      "Trainable params: 268,578\n",
      "Non-trainable params: 2,368\n",
      "_________________________________________________________________\n",
      "None\n"
     ]
    },
    {
     "data": {
      "text/plain": [
       "[('batch_normalization_10/gamma:0', True),\n",
       " ('batch_normalization_10/beta:0', True),\n",
       " ('batch_normalization_10/moving_mean:0', False),\n",
       " ('batch_normalization_10/moving_variance:0', False)]"
      ]
     },
     "execution_count": 32,
     "metadata": {},
     "output_type": "execute_result"
    }
   ],
   "source": [
    "print(model.summary())\n",
    "[(var.name, var.trainable) for var in model.layers[3].variables]"
   ]
  },
  {
   "cell_type": "code",
   "execution_count": 33,
   "metadata": {},
   "outputs": [
    {
     "name": "stdout",
     "output_type": "stream",
     "text": [
      "Train on 55000 samples, validate on 5000 samples\n",
      "Epoch 1/10\n",
      "55000/55000 [==============================] - 4s 66us/sample - loss: 0.9100 - sparse_categorical_accuracy: 0.7022 - val_loss: 0.6224 - val_sparse_categorical_accuracy: 0.7972\n",
      "Epoch 2/10\n",
      "55000/55000 [==============================] - 3s 55us/sample - loss: 0.6237 - sparse_categorical_accuracy: 0.7887 - val_loss: 0.5377 - val_sparse_categorical_accuracy: 0.8212\n",
      "Epoch 3/10\n",
      "55000/55000 [==============================] - 3s 55us/sample - loss: 0.5617 - sparse_categorical_accuracy: 0.8074 - val_loss: 0.4970 - val_sparse_categorical_accuracy: 0.8348\n",
      "Epoch 4/10\n",
      "55000/55000 [==============================] - 3s 55us/sample - loss: 0.5288 - sparse_categorical_accuracy: 0.8191 - val_loss: 0.4720 - val_sparse_categorical_accuracy: 0.8418\n",
      "Epoch 5/10\n",
      "55000/55000 [==============================] - 3s 55us/sample - loss: 0.5086 - sparse_categorical_accuracy: 0.8248 - val_loss: 0.4544 - val_sparse_categorical_accuracy: 0.8488\n",
      "Epoch 6/10\n",
      "55000/55000 [==============================] - 3s 55us/sample - loss: 0.4915 - sparse_categorical_accuracy: 0.8299 - val_loss: 0.4430 - val_sparse_categorical_accuracy: 0.8534\n",
      "Epoch 7/10\n",
      "55000/55000 [==============================] - 3s 55us/sample - loss: 0.4784 - sparse_categorical_accuracy: 0.8341 - val_loss: 0.4328 - val_sparse_categorical_accuracy: 0.8528\n",
      "Epoch 8/10\n",
      "55000/55000 [==============================] - 3s 55us/sample - loss: 0.4667 - sparse_categorical_accuracy: 0.8382 - val_loss: 0.4230 - val_sparse_categorical_accuracy: 0.8580\n",
      "Epoch 9/10\n",
      "55000/55000 [==============================] - 3s 55us/sample - loss: 0.4570 - sparse_categorical_accuracy: 0.8405 - val_loss: 0.4169 - val_sparse_categorical_accuracy: 0.8622\n",
      "Epoch 10/10\n",
      "55000/55000 [==============================] - 3s 55us/sample - loss: 0.4503 - sparse_categorical_accuracy: 0.8433 - val_loss: 0.4110 - val_sparse_categorical_accuracy: 0.8634\n"
     ]
    }
   ],
   "source": [
    "modelcompile(model)\n",
    "history = model.fit(x_train, y_train, epochs = 10, validation_data=(x_valid, y_valid))"
   ]
  },
  {
   "cell_type": "markdown",
   "metadata": {},
   "source": [
    "## 그레이디언트 클리핑"
   ]
  },
  {
   "cell_type": "code",
   "execution_count": 34,
   "metadata": {},
   "outputs": [],
   "source": [
    "# 클리핑이 벡터의 방향을 바꾸지 못하게 할려면 clipvalue -> clipnorm\n",
    "optimizer = keras.optimizers.SGD(clipvalue = 1.0)\n",
    "optimizer = keras.optimizers.SGD(clipnorm = 1.0)\n",
    "model.compile(loss='mse', optimizer=optimizer)"
   ]
  },
  {
   "cell_type": "markdown",
   "metadata": {},
   "source": [
    "## 사전 훈련된 층 재사용하기"
   ]
  },
  {
   "cell_type": "code",
   "execution_count": 35,
   "metadata": {},
   "outputs": [],
   "source": [
    "def split_dataset(x, y):\n",
    "    y_5_or_6 = (y==5) | (y==6)\n",
    "    y_A = y[~y_5_or_6]\n",
    "    y_A[y_A > 6] -= 2\n",
    "    y_B = (y[y_5_or_6] ==6).astype(np.float32)\n",
    "    \n",
    "    return ((x[~y_5_or_6], y_A), (x[y_5_or_6], y_B))"
   ]
  },
  {
   "cell_type": "code",
   "execution_count": 36,
   "metadata": {},
   "outputs": [],
   "source": [
    "(x_train_A, y_train_A), (x_train_B, y_train_B) = split_dataset(x_train, y_train)\n",
    "(x_valid_A, y_valid_A), (x_valid_B, y_valid_B) = split_dataset(x_valid, y_valid)\n",
    "(x_test_A, y_test_A), (x_test_B, y_test_B) = split_dataset(x_test, y_test)\n",
    "x_train_B = x_train_B[:200]\n",
    "y_train_B = y_train_B[:200]"
   ]
  },
  {
   "cell_type": "code",
   "execution_count": 37,
   "metadata": {},
   "outputs": [
    {
     "data": {
      "text/plain": [
       "((43986, 28, 28), (200, 28, 28))"
      ]
     },
     "execution_count": 37,
     "metadata": {},
     "output_type": "execute_result"
    }
   ],
   "source": [
    "x_train_A.shape, x_train_B.shape, "
   ]
  },
  {
   "cell_type": "code",
   "execution_count": 38,
   "metadata": {},
   "outputs": [
    {
     "data": {
      "text/plain": [
       "(array([4, 0, 5, 7, 7, 7, 4, 4, 3, 4, 0, 1, 6, 3, 4, 3, 2, 6, 5, 3, 4, 5,\n",
       "        1, 3, 4, 2, 0, 6, 7, 1], dtype=uint8),\n",
       " array([1., 1., 0., 0., 0., 0., 1., 1., 1., 0., 0., 1., 1., 0., 0., 0., 0.,\n",
       "        0., 0., 1., 1., 0., 0., 1., 1., 0., 1., 1., 1., 1.], dtype=float32))"
      ]
     },
     "execution_count": 38,
     "metadata": {},
     "output_type": "execute_result"
    }
   ],
   "source": [
    "y_train_A[:30], y_train_B[:30]"
   ]
  },
  {
   "cell_type": "code",
   "execution_count": 39,
   "metadata": {},
   "outputs": [],
   "source": [
    "model_A = keras.models.Sequential()\n",
    "model_A.add(keras.layers.Flatten(input_shape=[28, 28]))\n",
    "for n_hidden in (300, 100, 50, 50, 50):\n",
    "    model_A.add(keras.layers.Dense(n_hidden, activation='selu'))\n",
    "model_A.add(keras.layers.Dense(8, activation='softmax'))"
   ]
  },
  {
   "cell_type": "code",
   "execution_count": 40,
   "metadata": {},
   "outputs": [
    {
     "name": "stdout",
     "output_type": "stream",
     "text": [
      "Train on 43986 samples, validate on 4014 samples\n",
      "Epoch 1/20\n",
      "43986/43986 [==============================] - 2s 47us/sample - loss: 0.5766 - sparse_categorical_accuracy: 0.8155 - val_loss: 0.3742 - val_sparse_categorical_accuracy: 0.8797\n",
      "Epoch 2/20\n",
      "43986/43986 [==============================] - 2s 38us/sample - loss: 0.3514 - sparse_categorical_accuracy: 0.8814 - val_loss: 0.3205 - val_sparse_categorical_accuracy: 0.8924\n",
      "Epoch 3/20\n",
      "43986/43986 [==============================] - 2s 38us/sample - loss: 0.3158 - sparse_categorical_accuracy: 0.8914 - val_loss: 0.3069 - val_sparse_categorical_accuracy: 0.8936\n",
      "Epoch 4/20\n",
      "43986/43986 [==============================] - 2s 38us/sample - loss: 0.2978 - sparse_categorical_accuracy: 0.8982 - val_loss: 0.2838 - val_sparse_categorical_accuracy: 0.9056\n",
      "Epoch 5/20\n",
      "43986/43986 [==============================] - 2s 38us/sample - loss: 0.2856 - sparse_categorical_accuracy: 0.9012 - val_loss: 0.2778 - val_sparse_categorical_accuracy: 0.9076\n",
      "Epoch 6/20\n",
      "43986/43986 [==============================] - 2s 38us/sample - loss: 0.2764 - sparse_categorical_accuracy: 0.9052 - val_loss: 0.2701 - val_sparse_categorical_accuracy: 0.9081\n",
      "Epoch 7/20\n",
      "43986/43986 [==============================] - 2s 39us/sample - loss: 0.2690 - sparse_categorical_accuracy: 0.9076 - val_loss: 0.2652 - val_sparse_categorical_accuracy: 0.9118\n",
      "Epoch 8/20\n",
      "43986/43986 [==============================] - 2s 39us/sample - loss: 0.2623 - sparse_categorical_accuracy: 0.9111 - val_loss: 0.2585 - val_sparse_categorical_accuracy: 0.9118\n",
      "Epoch 9/20\n",
      "43986/43986 [==============================] - 2s 38us/sample - loss: 0.2573 - sparse_categorical_accuracy: 0.9119 - val_loss: 0.2550 - val_sparse_categorical_accuracy: 0.9143\n",
      "Epoch 10/20\n",
      "43986/43986 [==============================] - 2s 38us/sample - loss: 0.2525 - sparse_categorical_accuracy: 0.9139 - val_loss: 0.2537 - val_sparse_categorical_accuracy: 0.9145\n",
      "Epoch 11/20\n",
      "43986/43986 [==============================] - 2s 38us/sample - loss: 0.2486 - sparse_categorical_accuracy: 0.9154 - val_loss: 0.2732 - val_sparse_categorical_accuracy: 0.9013\n",
      "Epoch 12/20\n",
      "43986/43986 [==============================] - 2s 39us/sample - loss: 0.2447 - sparse_categorical_accuracy: 0.9167 - val_loss: 0.2478 - val_sparse_categorical_accuracy: 0.9168\n",
      "Epoch 13/20\n",
      "43986/43986 [==============================] - 2s 38us/sample - loss: 0.2409 - sparse_categorical_accuracy: 0.9178 - val_loss: 0.2502 - val_sparse_categorical_accuracy: 0.9131\n",
      "Epoch 14/20\n",
      "43986/43986 [==============================] - 2s 38us/sample - loss: 0.2380 - sparse_categorical_accuracy: 0.9187 - val_loss: 0.2492 - val_sparse_categorical_accuracy: 0.9131\n",
      "Epoch 15/20\n",
      "43986/43986 [==============================] - 2s 38us/sample - loss: 0.2350 - sparse_categorical_accuracy: 0.9197 - val_loss: 0.2508 - val_sparse_categorical_accuracy: 0.9131\n",
      "Epoch 16/20\n",
      "43986/43986 [==============================] - 2s 37us/sample - loss: 0.2326 - sparse_categorical_accuracy: 0.9196 - val_loss: 0.2414 - val_sparse_categorical_accuracy: 0.9185\n",
      "Epoch 17/20\n",
      "43986/43986 [==============================] - 2s 38us/sample - loss: 0.2298 - sparse_categorical_accuracy: 0.9209 - val_loss: 0.2396 - val_sparse_categorical_accuracy: 0.9178\n",
      "Epoch 18/20\n",
      "43986/43986 [==============================] - 2s 39us/sample - loss: 0.2276 - sparse_categorical_accuracy: 0.9224 - val_loss: 0.2365 - val_sparse_categorical_accuracy: 0.9190\n",
      "Epoch 19/20\n",
      "43986/43986 [==============================] - 2s 38us/sample - loss: 0.2247 - sparse_categorical_accuracy: 0.9232 - val_loss: 0.2343 - val_sparse_categorical_accuracy: 0.9203\n",
      "Epoch 20/20\n",
      "43986/43986 [==============================] - 2s 38us/sample - loss: 0.2227 - sparse_categorical_accuracy: 0.9238 - val_loss: 0.2355 - val_sparse_categorical_accuracy: 0.9198\n"
     ]
    }
   ],
   "source": [
    "modelcompile(model_A)\n",
    "history_A = model_A.fit(x_train_A, y_train_A, epochs=20, validation_data=(x_valid_A, y_valid_A))"
   ]
  },
  {
   "cell_type": "code",
   "execution_count": 41,
   "metadata": {},
   "outputs": [],
   "source": [
    "model_A.save('.\\models\\my_model_A.h5')"
   ]
  },
  {
   "cell_type": "code",
   "execution_count": 42,
   "metadata": {},
   "outputs": [],
   "source": [
    "model_B = keras.models.Sequential()\n",
    "model_B.add(keras.layers.Flatten(input_shape=[28, 28]))\n",
    "for n_hidden in (300, 100, 50, 50, 50):\n",
    "    model_B.add(keras.layers.Dense(n_hidden, activation='selu'))\n",
    "model_B.add(keras.layers.Dense(1, activation='sigmoid'))"
   ]
  },
  {
   "cell_type": "code",
   "execution_count": 43,
   "metadata": {},
   "outputs": [],
   "source": [
    "model_B.compile(loss=\"binary_crossentropy\",\n",
    "                optimizer='sgd',\n",
    "                metrics=[\"accuracy\"])"
   ]
  },
  {
   "cell_type": "code",
   "execution_count": 44,
   "metadata": {},
   "outputs": [
    {
     "name": "stdout",
     "output_type": "stream",
     "text": [
      "Train on 200 samples, validate on 986 samples\n",
      "Epoch 1/20\n",
      "200/200 [==============================] - 0s 2ms/sample - loss: 0.5037 - accuracy: 0.7500 - val_loss: 0.1158 - val_accuracy: 0.9817\n",
      "Epoch 2/20\n",
      "200/200 [==============================] - 0s 185us/sample - loss: 0.0800 - accuracy: 0.9950 - val_loss: 0.0806 - val_accuracy: 0.9838\n",
      "Epoch 3/20\n",
      "200/200 [==============================] - 0s 180us/sample - loss: 0.0536 - accuracy: 0.9950 - val_loss: 0.0658 - val_accuracy: 0.9868\n",
      "Epoch 4/20\n",
      "200/200 [==============================] - 0s 185us/sample - loss: 0.0415 - accuracy: 0.9950 - val_loss: 0.0572 - val_accuracy: 0.9858\n",
      "Epoch 5/20\n",
      "200/200 [==============================] - 0s 180us/sample - loss: 0.0334 - accuracy: 0.9950 - val_loss: 0.0520 - val_accuracy: 0.9858\n",
      "Epoch 6/20\n",
      "200/200 [==============================] - 0s 180us/sample - loss: 0.0280 - accuracy: 0.9950 - val_loss: 0.0478 - val_accuracy: 0.9868\n",
      "Epoch 7/20\n",
      "200/200 [==============================] - 0s 180us/sample - loss: 0.0240 - accuracy: 0.9950 - val_loss: 0.0459 - val_accuracy: 0.9868\n",
      "Epoch 8/20\n",
      "200/200 [==============================] - 0s 180us/sample - loss: 0.0210 - accuracy: 0.9950 - val_loss: 0.0431 - val_accuracy: 0.9878\n",
      "Epoch 9/20\n",
      "200/200 [==============================] - 0s 180us/sample - loss: 0.0184 - accuracy: 0.9950 - val_loss: 0.0410 - val_accuracy: 0.9899\n",
      "Epoch 10/20\n",
      "200/200 [==============================] - 0s 185us/sample - loss: 0.0162 - accuracy: 0.9950 - val_loss: 0.0396 - val_accuracy: 0.9899\n",
      "Epoch 11/20\n",
      "200/200 [==============================] - 0s 194us/sample - loss: 0.0144 - accuracy: 1.0000 - val_loss: 0.0392 - val_accuracy: 0.9899\n",
      "Epoch 12/20\n",
      "200/200 [==============================] - 0s 180us/sample - loss: 0.0128 - accuracy: 1.0000 - val_loss: 0.0372 - val_accuracy: 0.9899\n",
      "Epoch 13/20\n",
      "200/200 [==============================] - 0s 175us/sample - loss: 0.0115 - accuracy: 1.0000 - val_loss: 0.0354 - val_accuracy: 0.9909\n",
      "Epoch 14/20\n",
      "200/200 [==============================] - 0s 185us/sample - loss: 0.0104 - accuracy: 1.0000 - val_loss: 0.0344 - val_accuracy: 0.9909\n",
      "Epoch 15/20\n",
      "200/200 [==============================] - 0s 185us/sample - loss: 0.0095 - accuracy: 1.0000 - val_loss: 0.0337 - val_accuracy: 0.9909\n",
      "Epoch 16/20\n",
      "200/200 [==============================] - 0s 189us/sample - loss: 0.0088 - accuracy: 1.0000 - val_loss: 0.0329 - val_accuracy: 0.9919\n",
      "Epoch 17/20\n",
      "200/200 [==============================] - 0s 185us/sample - loss: 0.0081 - accuracy: 1.0000 - val_loss: 0.0325 - val_accuracy: 0.9919\n",
      "Epoch 18/20\n",
      "200/200 [==============================] - 0s 180us/sample - loss: 0.0075 - accuracy: 1.0000 - val_loss: 0.0321 - val_accuracy: 0.9919\n",
      "Epoch 19/20\n",
      "200/200 [==============================] - 0s 177us/sample - loss: 0.0070 - accuracy: 1.0000 - val_loss: 0.0318 - val_accuracy: 0.9919\n",
      "Epoch 20/20\n",
      "200/200 [==============================] - 0s 194us/sample - loss: 0.0066 - accuracy: 1.0000 - val_loss: 0.0314 - val_accuracy: 0.9919\n"
     ]
    }
   ],
   "source": [
    "hitory_B =  model_B.fit(x_train_B, y_train_B, epochs=20, validation_data=(x_valid_B, y_valid_B))"
   ]
  },
  {
   "cell_type": "code",
   "execution_count": 45,
   "metadata": {},
   "outputs": [],
   "source": [
    "model_B.save('.\\models\\my_model_B.h5')"
   ]
  },
  {
   "cell_type": "code",
   "execution_count": 46,
   "metadata": {},
   "outputs": [],
   "source": [
    "model_A = keras.models.load_model('.\\models\\my_model_A.h5')\n",
    "model_B_on_A = keras.models.Sequential(model_A.layers[:-1])\n",
    "model_B_on_A.add(keras.layers.Dense(1, activation='sigmoid'))"
   ]
  },
  {
   "cell_type": "code",
   "execution_count": 47,
   "metadata": {},
   "outputs": [],
   "source": [
    "model_A_clone = keras.models.clone_model(model_A)\n",
    "model_A_clone.set_weights(model_A.get_weights())"
   ]
  },
  {
   "cell_type": "code",
   "execution_count": 48,
   "metadata": {},
   "outputs": [],
   "source": [
    "for layer in model_B_on_A.layers[:-1]:\n",
    "    layer.trainable = False\n",
    "    \n",
    "model_B_on_A.compile(loss = 'binary_crossentropy', optimizer ='sgd', metrics=['accuracy'])"
   ]
  },
  {
   "cell_type": "code",
   "execution_count": 49,
   "metadata": {},
   "outputs": [
    {
     "name": "stdout",
     "output_type": "stream",
     "text": [
      "Train on 200 samples, validate on 986 samples\n",
      "Epoch 1/4\n",
      "200/200 [==============================] - 0s 2ms/sample - loss: 1.1185 - accuracy: 0.4350 - val_loss: 0.7842 - val_accuracy: 0.5913\n",
      "Epoch 2/4\n",
      "200/200 [==============================] - 0s 175us/sample - loss: 0.6545 - accuracy: 0.6500 - val_loss: 0.4983 - val_accuracy: 0.7465\n",
      "Epoch 3/4\n",
      "200/200 [==============================] - 0s 170us/sample - loss: 0.4268 - accuracy: 0.7850 - val_loss: 0.3580 - val_accuracy: 0.8550\n",
      "Epoch 4/4\n",
      "200/200 [==============================] - 0s 160us/sample - loss: 0.3136 - accuracy: 0.8700 - val_loss: 0.2818 - val_accuracy: 0.9026\n"
     ]
    }
   ],
   "source": [
    "history = model_B_on_A.fit(x_train_B, y_train_B, epochs=4, validation_data=(x_valid_B, y_valid_B))"
   ]
  },
  {
   "cell_type": "code",
   "execution_count": 50,
   "metadata": {},
   "outputs": [],
   "source": [
    "for layer in model_B_on_A.layers[:-1]:\n",
    "    layer.trainable = True"
   ]
  },
  {
   "cell_type": "code",
   "execution_count": 51,
   "metadata": {},
   "outputs": [],
   "source": [
    "optimizer = keras.optimizers.SGD(1e-4)\n",
    "model_B_on_A.compile(loss=\"binary_crossentropy\",\n",
    "                    optimizer = optimizer,\n",
    "                    metrics=['accuracy'])"
   ]
  },
  {
   "cell_type": "code",
   "execution_count": 52,
   "metadata": {},
   "outputs": [
    {
     "name": "stdout",
     "output_type": "stream",
     "text": [
      "Train on 200 samples, validate on 986 samples\n",
      "Epoch 1/16\n",
      "200/200 [==============================] - 0s 2ms/sample - loss: 0.2670 - accuracy: 0.9200 - val_loss: 0.2741 - val_accuracy: 0.9067\n",
      "Epoch 2/16\n",
      "200/200 [==============================] - 0s 180us/sample - loss: 0.2595 - accuracy: 0.9300 - val_loss: 0.2666 - val_accuracy: 0.9097\n",
      "Epoch 3/16\n",
      "200/200 [==============================] - 0s 175us/sample - loss: 0.2521 - accuracy: 0.9350 - val_loss: 0.2594 - val_accuracy: 0.9189\n",
      "Epoch 4/16\n",
      "200/200 [==============================] - 0s 180us/sample - loss: 0.2451 - accuracy: 0.9350 - val_loss: 0.2528 - val_accuracy: 0.9229\n",
      "Epoch 5/16\n",
      "200/200 [==============================] - 0s 180us/sample - loss: 0.2386 - accuracy: 0.9400 - val_loss: 0.2463 - val_accuracy: 0.9249\n",
      "Epoch 6/16\n",
      "200/200 [==============================] - 0s 194us/sample - loss: 0.2321 - accuracy: 0.9400 - val_loss: 0.2408 - val_accuracy: 0.9249\n",
      "Epoch 7/16\n",
      "200/200 [==============================] - 0s 180us/sample - loss: 0.2267 - accuracy: 0.9450 - val_loss: 0.2354 - val_accuracy: 0.9270\n",
      "Epoch 8/16\n",
      "200/200 [==============================] - 0s 185us/sample - loss: 0.2215 - accuracy: 0.9450 - val_loss: 0.2303 - val_accuracy: 0.9280\n",
      "Epoch 9/16\n",
      "200/200 [==============================] - 0s 194us/sample - loss: 0.2163 - accuracy: 0.9450 - val_loss: 0.2252 - val_accuracy: 0.9320\n",
      "Epoch 10/16\n",
      "200/200 [==============================] - 0s 197us/sample - loss: 0.2113 - accuracy: 0.9500 - val_loss: 0.2203 - val_accuracy: 0.9371\n",
      "Epoch 11/16\n",
      "200/200 [==============================] - 0s 180us/sample - loss: 0.2064 - accuracy: 0.9550 - val_loss: 0.2154 - val_accuracy: 0.9391\n",
      "Epoch 12/16\n",
      "200/200 [==============================] - 0s 189us/sample - loss: 0.2016 - accuracy: 0.9550 - val_loss: 0.2110 - val_accuracy: 0.9432\n",
      "Epoch 13/16\n",
      "200/200 [==============================] - 0s 185us/sample - loss: 0.1973 - accuracy: 0.9600 - val_loss: 0.2068 - val_accuracy: 0.9462\n",
      "Epoch 14/16\n",
      "200/200 [==============================] - 0s 185us/sample - loss: 0.1931 - accuracy: 0.9600 - val_loss: 0.2027 - val_accuracy: 0.9503\n",
      "Epoch 15/16\n",
      "200/200 [==============================] - 0s 182us/sample - loss: 0.1890 - accuracy: 0.9650 - val_loss: 0.1990 - val_accuracy: 0.9523\n",
      "Epoch 16/16\n",
      "200/200 [==============================] - 0s 180us/sample - loss: 0.1852 - accuracy: 0.9650 - val_loss: 0.1951 - val_accuracy: 0.9523\n"
     ]
    }
   ],
   "source": [
    "history = model_B_on_A.fit(x_train_B, y_train_B, epochs=16, validation_data=(x_valid_B, y_valid_B))"
   ]
  },
  {
   "cell_type": "code",
   "execution_count": 53,
   "metadata": {},
   "outputs": [
    {
     "name": "stdout",
     "output_type": "stream",
     "text": [
      "2000/2000 [==============================] - 0s 21us/sample - loss: 0.1978 - accuracy: 0.9495\n"
     ]
    },
    {
     "data": {
      "text/plain": [
       "[0.19782071059942247, 0.9495]"
      ]
     },
     "execution_count": 53,
     "metadata": {},
     "output_type": "execute_result"
    }
   ],
   "source": [
    "model_B_on_A.evaluate(x_test_B, y_test_B)"
   ]
  },
  {
   "cell_type": "code",
   "execution_count": 54,
   "metadata": {},
   "outputs": [
    {
     "name": "stdout",
     "output_type": "stream",
     "text": [
      "2000/2000 [==============================] - 0s 21us/sample - loss: 0.0220 - accuracy: 0.9950\n"
     ]
    },
    {
     "data": {
      "text/plain": [
       "[0.022031672105193138, 0.995]"
      ]
     },
     "execution_count": 54,
     "metadata": {},
     "output_type": "execute_result"
    }
   ],
   "source": [
    "model_B.evaluate(x_test_B, y_test_B)"
   ]
  },
  {
   "cell_type": "markdown",
   "metadata": {},
   "source": [
    "## 고속 옵티마이저"
   ]
  },
  {
   "cell_type": "code",
   "execution_count": 55,
   "metadata": {},
   "outputs": [],
   "source": [
    "# 모멘텀 최적화 0.9에서 보통 잘 작동됨. == momentum\n",
    "optimizer = keras.optimizers.SGD(lr=0.001, momentum=0.9)\n",
    "\n",
    "# 네스테로프 가속 경사  == nesterov , monentum 도 같이 해야함\n",
    "optimizer = keras.optimizers.SGD(lr=0.001, momentum = 0.9, nesterov = True)\n",
    "\n",
    "# AdaGrad\n",
    "optimizer = keras.optimizers.Adagrad(lr=0.001)\n",
    "\n",
    "# RMSProp\n",
    "opmizer = keras.optimizers.RMSprop(lr = 0.001, rho=0.9)"
   ]
  },
  {
   "cell_type": "code",
   "execution_count": 56,
   "metadata": {},
   "outputs": [],
   "source": [
    "# Adam Optimizer basic init\n",
    "optimizer = keras.optimizers.Adam(lr=0.001, beta_1=0.9, beta_2=0.999)\n",
    "\n",
    "# AdaMax / Nadam  Adam 변종 최적화\n",
    "# AdamMax -> 실전에선 Adam보다 안정적이지만 성능이 더 낮음\n",
    "# Adam이 잘 작도오디지 않는다면 시도해볼 옵디마이저 중 하나\n",
    "optimizer = keras.optimizers.Adamax(lr=0.001, beta_1=0.9, beta_2=0.999)\n",
    "# Nadam -> Adam + newterov\n",
    "optimizer = keras.optimizers.Nadam(lr=0.001, beta_1=0.9, beta_2=0.999)"
   ]
  },
  {
   "cell_type": "markdown",
   "metadata": {},
   "source": [
    "## 학습 스케줄링"
   ]
  },
  {
   "cell_type": "code",
   "execution_count": 57,
   "metadata": {},
   "outputs": [],
   "source": [
    "# 거듭제근 기반 스케줄링 -> decay 매개변수만 지정\n",
    "optimizer = keras.optimizers.SGD(lr=0.01, decay = 1e-4)"
   ]
  },
  {
   "cell_type": "code",
   "execution_count": 58,
   "metadata": {},
   "outputs": [],
   "source": [
    "model = keras.models.Sequential([\n",
    "    keras.layers.Flatten(input_shape=[28, 28]),\n",
    "    keras.layers.Dense(300, activation='selu', kernel_initializer='lecun_normal'),\n",
    "    keras.layers.Dense(100, activation='selu', kernel_initializer='lecun_normal'),\n",
    "    keras.layers.Dense(10, activation='softmax')\n",
    "])"
   ]
  },
  {
   "cell_type": "code",
   "execution_count": 60,
   "metadata": {
    "scrolled": true
   },
   "outputs": [
    {
     "name": "stdout",
     "output_type": "stream",
     "text": [
      "Train on 55000 samples, validate on 5000 samples\n",
      "Epoch 1/25\n",
      "55000/55000 [==============================] - 2s 40us/sample - loss: 0.5874 - sparse_categorical_accuracy: 0.7973 - val_loss: 0.4599 - val_sparse_categorical_accuracy: 0.8432\n",
      "Epoch 2/25\n",
      "55000/55000 [==============================] - 2s 34us/sample - loss: 0.4517 - sparse_categorical_accuracy: 0.8409 - val_loss: 0.4241 - val_sparse_categorical_accuracy: 0.8512\n",
      "Epoch 3/25\n",
      "55000/55000 [==============================] - 2s 34us/sample - loss: 0.4227 - sparse_categorical_accuracy: 0.8508 - val_loss: 0.4370 - val_sparse_categorical_accuracy: 0.8452\n",
      "Epoch 4/25\n",
      "55000/55000 [==============================] - 2s 34us/sample - loss: 0.4058 - sparse_categorical_accuracy: 0.8564 - val_loss: 0.3996 - val_sparse_categorical_accuracy: 0.8634\n",
      "Epoch 5/25\n",
      "55000/55000 [==============================] - 2s 34us/sample - loss: 0.3938 - sparse_categorical_accuracy: 0.8607 - val_loss: 0.3982 - val_sparse_categorical_accuracy: 0.8594\n",
      "Epoch 6/25\n",
      "55000/55000 [==============================] - 2s 34us/sample - loss: 0.3839 - sparse_categorical_accuracy: 0.8653 - val_loss: 0.4081 - val_sparse_categorical_accuracy: 0.8552\n",
      "Epoch 7/25\n",
      "55000/55000 [==============================] - 2s 34us/sample - loss: 0.3767 - sparse_categorical_accuracy: 0.8662 - val_loss: 0.3768 - val_sparse_categorical_accuracy: 0.8688\n",
      "Epoch 8/25\n",
      "55000/55000 [==============================] - 2s 34us/sample - loss: 0.3691 - sparse_categorical_accuracy: 0.8695 - val_loss: 0.3865 - val_sparse_categorical_accuracy: 0.8620\n",
      "Epoch 9/25\n",
      "55000/55000 [==============================] - 2s 34us/sample - loss: 0.3637 - sparse_categorical_accuracy: 0.8712 - val_loss: 0.3718 - val_sparse_categorical_accuracy: 0.8690\n",
      "Epoch 10/25\n",
      "55000/55000 [==============================] - 2s 34us/sample - loss: 0.3584 - sparse_categorical_accuracy: 0.8725 - val_loss: 0.3674 - val_sparse_categorical_accuracy: 0.8704\n",
      "Epoch 11/25\n",
      "55000/55000 [==============================] - 2s 34us/sample - loss: 0.3550 - sparse_categorical_accuracy: 0.8738 - val_loss: 0.3631 - val_sparse_categorical_accuracy: 0.8714\n",
      "Epoch 12/25\n",
      "55000/55000 [==============================] - 2s 34us/sample - loss: 0.3506 - sparse_categorical_accuracy: 0.8760 - val_loss: 0.3641 - val_sparse_categorical_accuracy: 0.8702\n",
      "Epoch 13/25\n",
      "55000/55000 [==============================] - 2s 34us/sample - loss: 0.3471 - sparse_categorical_accuracy: 0.8768 - val_loss: 0.3625 - val_sparse_categorical_accuracy: 0.8728\n",
      "Epoch 14/25\n",
      "55000/55000 [==============================] - 2s 34us/sample - loss: 0.3437 - sparse_categorical_accuracy: 0.8779 - val_loss: 0.3604 - val_sparse_categorical_accuracy: 0.8732\n",
      "Epoch 15/25\n",
      "55000/55000 [==============================] - 2s 34us/sample - loss: 0.3410 - sparse_categorical_accuracy: 0.8790 - val_loss: 0.3590 - val_sparse_categorical_accuracy: 0.8714\n",
      "Epoch 16/25\n",
      "55000/55000 [==============================] - 2s 34us/sample - loss: 0.3376 - sparse_categorical_accuracy: 0.8800 - val_loss: 0.3556 - val_sparse_categorical_accuracy: 0.8758\n",
      "Epoch 17/25\n",
      "55000/55000 [==============================] - 2s 35us/sample - loss: 0.3351 - sparse_categorical_accuracy: 0.8806 - val_loss: 0.3524 - val_sparse_categorical_accuracy: 0.8742\n",
      "Epoch 18/25\n",
      "55000/55000 [==============================] - 2s 34us/sample - loss: 0.3323 - sparse_categorical_accuracy: 0.8816 - val_loss: 0.3561 - val_sparse_categorical_accuracy: 0.8726\n",
      "Epoch 19/25\n",
      "55000/55000 [==============================] - 2s 34us/sample - loss: 0.3298 - sparse_categorical_accuracy: 0.8819 - val_loss: 0.3533 - val_sparse_categorical_accuracy: 0.8760\n",
      "Epoch 20/25\n",
      "55000/55000 [==============================] - 2s 34us/sample - loss: 0.3282 - sparse_categorical_accuracy: 0.8833 - val_loss: 0.3497 - val_sparse_categorical_accuracy: 0.8770\n",
      "Epoch 21/25\n",
      "55000/55000 [==============================] - 2s 34us/sample - loss: 0.3261 - sparse_categorical_accuracy: 0.8831 - val_loss: 0.3585 - val_sparse_categorical_accuracy: 0.8778\n",
      "Epoch 22/25\n",
      "55000/55000 [==============================] - 2s 34us/sample - loss: 0.3238 - sparse_categorical_accuracy: 0.8853 - val_loss: 0.3483 - val_sparse_categorical_accuracy: 0.8760\n",
      "Epoch 23/25\n",
      "55000/55000 [==============================] - 2s 34us/sample - loss: 0.3224 - sparse_categorical_accuracy: 0.8854 - val_loss: 0.3539 - val_sparse_categorical_accuracy: 0.8734\n",
      "Epoch 24/25\n",
      "55000/55000 [==============================] - 2s 34us/sample - loss: 0.3204 - sparse_categorical_accuracy: 0.8865 - val_loss: 0.3485 - val_sparse_categorical_accuracy: 0.8756\n",
      "Epoch 25/25\n",
      "55000/55000 [==============================] - 2s 34us/sample - loss: 0.3194 - sparse_categorical_accuracy: 0.8864 - val_loss: 0.3457 - val_sparse_categorical_accuracy: 0.8766\n"
     ]
    }
   ],
   "source": [
    "model.compile(loss = keras.losses.sparse_categorical_crossentropy,\n",
    "             optimizer = optimizer,\n",
    "             metrics = [keras.metrics.sparse_categorical_accuracy])\n",
    "n_epochs = 25\n",
    "history = model.fit(x_train, y_train, epochs=n_epochs, validation_data=(x_valid, y_valid))"
   ]
  },
  {
   "cell_type": "code",
   "execution_count": 61,
   "metadata": {},
   "outputs": [],
   "source": [
    "learning_rate = 0.01\n",
    "decay = 1e-4\n",
    "batch_size = 32\n",
    "n_steps_per_epoch = len(x_train) // batch_size\n",
    "epochs = np.arange(n_epochs)\n",
    "lrs = learning_rate / (1 + decay * epochs * n_steps_per_epoch)"
   ]
  },
  {
   "cell_type": "code",
   "execution_count": 62,
   "metadata": {},
   "outputs": [
    {
     "data": {
      "image/png": "[encoded data removed]",
      "text/plain": [
       "<Figure size 432x288 with 1 Axes>"
      ]
     },
     "metadata": {
      "needs_background": "light"
     },
     "output_type": "display_data"
    }
   ],
   "source": [
    "plt.plot(epochs, lrs,  \"o-\")\n",
    "plt.axis([0, n_epochs - 1, 0, 0.01])\n",
    "plt.xlabel(\"Epoch\")\n",
    "plt.ylabel(\"Learning Rate\")\n",
    "plt.title(\"Power Scheduling\", fontsize=14)\n",
    "plt.grid(True)\n",
    "plt.show()"
   ]
  },
  {
   "cell_type": "code",
   "execution_count": 63,
   "metadata": {},
   "outputs": [],
   "source": [
    "# 지수 기반 스케일링\n",
    "def exponential_decay_fn(epoch):\n",
    "    return 0.01 * 0.1 **(epoch/20)"
   ]
  },
  {
   "cell_type": "code",
   "execution_count": 64,
   "metadata": {},
   "outputs": [],
   "source": [
    "def exponential_decay(lr0, s):\n",
    "    def exponential_decay_fn(epoch):\n",
    "        return 0.01 * 0.1 **(epoch/20)\n",
    "    return exponential_decay_fn\n",
    "\n",
    "exponential_decay_fn = exponential_decay(lr0 = 0.01, s = 20)"
   ]
  },
  {
   "cell_type": "code",
   "execution_count": 65,
   "metadata": {},
   "outputs": [],
   "source": [
    "model = keras.models.Sequential([\n",
    "    keras.layers.Flatten(input_shape=[28, 28]),\n",
    "    keras.layers.Dense(300, activation='selu', kernel_initializer='lecun_normal'),\n",
    "    keras.layers.Dense(100, activation='selu', kernel_initializer='lecun_normal'),\n",
    "    keras.layers.Dense(10, activation='softmax')\n",
    "])"
   ]
  },
  {
   "cell_type": "code",
   "execution_count": 66,
   "metadata": {},
   "outputs": [],
   "source": [
    "model.compile(loss = keras.losses.sparse_categorical_crossentropy,\n",
    "             optimizer = 'nadam',\n",
    "             metrics = ['accuracy'])\n",
    "n_epochs = 25"
   ]
  },
  {
   "cell_type": "code",
   "execution_count": 67,
   "metadata": {
    "scrolled": true
   },
   "outputs": [
    {
     "name": "stdout",
     "output_type": "stream",
     "text": [
      "Train on 55000 samples, validate on 5000 samples\n",
      "Epoch 1/25\n",
      "55000/55000 [==============================] - 4s 68us/sample - loss: 0.8464 - accuracy: 0.7589 - val_loss: 0.6881 - val_accuracy: 0.8044\n",
      "Epoch 2/25\n",
      "55000/55000 [==============================] - 3s 59us/sample - loss: 0.6563 - accuracy: 0.8022 - val_loss: 0.6128 - val_accuracy: 0.8168\n",
      "Epoch 3/25\n",
      "55000/55000 [==============================] - 3s 59us/sample - loss: 0.5846 - accuracy: 0.8205 - val_loss: 0.5814 - val_accuracy: 0.7914\n",
      "Epoch 4/25\n",
      "55000/55000 [==============================] - 3s 59us/sample - loss: 0.5370 - accuracy: 0.8341 - val_loss: 0.5250 - val_accuracy: 0.8486\n",
      "Epoch 5/25\n",
      "55000/55000 [==============================] - 3s 60us/sample - loss: 0.4747 - accuracy: 0.8525 - val_loss: 0.6173 - val_accuracy: 0.8010\n",
      "Epoch 6/25\n",
      "55000/55000 [==============================] - 3s 60us/sample - loss: 0.4422 - accuracy: 0.8607 - val_loss: 0.4674 - val_accuracy: 0.8684\n",
      "Epoch 7/25\n",
      "55000/55000 [==============================] - 3s 59us/sample - loss: 0.4170 - accuracy: 0.8676 - val_loss: 0.4624 - val_accuracy: 0.8604\n",
      "Epoch 8/25\n",
      "55000/55000 [==============================] - 3s 60us/sample - loss: 0.3878 - accuracy: 0.8753 - val_loss: 0.4553 - val_accuracy: 0.8688\n",
      "Epoch 9/25\n",
      "55000/55000 [==============================] - 3s 59us/sample - loss: 0.3483 - accuracy: 0.8855 - val_loss: 0.4214 - val_accuracy: 0.8754\n",
      "Epoch 10/25\n",
      "55000/55000 [==============================] - 3s 60us/sample - loss: 0.3230 - accuracy: 0.8929 - val_loss: 0.4632 - val_accuracy: 0.8702\n",
      "Epoch 11/25\n",
      "55000/55000 [==============================] - 3s 60us/sample - loss: 0.3093 - accuracy: 0.8998 - val_loss: 0.5386 - val_accuracy: 0.8680\n",
      "Epoch 12/25\n",
      "55000/55000 [==============================] - 3s 60us/sample - loss: 0.2798 - accuracy: 0.9075 - val_loss: 0.4363 - val_accuracy: 0.8770\n",
      "Epoch 13/25\n",
      "55000/55000 [==============================] - 3s 60us/sample - loss: 0.2553 - accuracy: 0.9145 - val_loss: 0.4114 - val_accuracy: 0.8878\n",
      "Epoch 14/25\n",
      "55000/55000 [==============================] - 3s 60us/sample - loss: 0.2396 - accuracy: 0.9200 - val_loss: 0.4350 - val_accuracy: 0.8834\n",
      "Epoch 15/25\n",
      "55000/55000 [==============================] - 3s 60us/sample - loss: 0.2264 - accuracy: 0.9249 - val_loss: 0.4873 - val_accuracy: 0.8806\n",
      "Epoch 16/25\n",
      "55000/55000 [==============================] - 3s 60us/sample - loss: 0.2078 - accuracy: 0.9306 - val_loss: 0.4983 - val_accuracy: 0.8842\n",
      "Epoch 17/25\n",
      "55000/55000 [==============================] - 3s 60us/sample - loss: 0.1929 - accuracy: 0.9352 - val_loss: 0.4542 - val_accuracy: 0.8872\n",
      "Epoch 18/25\n",
      "55000/55000 [==============================] - 3s 60us/sample - loss: 0.1826 - accuracy: 0.9405 - val_loss: 0.4832 - val_accuracy: 0.8832\n",
      "Epoch 19/25\n",
      "55000/55000 [==============================] - 3s 60us/sample - loss: 0.1717 - accuracy: 0.9439 - val_loss: 0.5003 - val_accuracy: 0.8816\n",
      "Epoch 20/25\n",
      "55000/55000 [==============================] - 3s 60us/sample - loss: 0.1560 - accuracy: 0.9482 - val_loss: 0.5634 - val_accuracy: 0.8852\n",
      "Epoch 21/25\n",
      "55000/55000 [==============================] - 3s 60us/sample - loss: 0.1481 - accuracy: 0.9515 - val_loss: 0.5238 - val_accuracy: 0.8860\n",
      "Epoch 22/25\n",
      "55000/55000 [==============================] - 3s 63us/sample - loss: 0.1369 - accuracy: 0.9558 - val_loss: 0.5402 - val_accuracy: 0.8898\n",
      "Epoch 23/25\n",
      "55000/55000 [==============================] - 3s 61us/sample - loss: 0.1280 - accuracy: 0.9581 - val_loss: 0.5596 - val_accuracy: 0.8932\n",
      "Epoch 24/25\n",
      "55000/55000 [==============================] - 3s 61us/sample - loss: 0.1174 - accuracy: 0.9627 - val_loss: 0.5709 - val_accuracy: 0.8862\n",
      "Epoch 25/25\n",
      "55000/55000 [==============================] - 3s 60us/sample - loss: 0.1091 - accuracy: 0.9656 - val_loss: 0.5779 - val_accuracy: 0.8906\n"
     ]
    }
   ],
   "source": [
    "lr_scheduler = keras.callbacks.LearningRateScheduler(exponential_decay_fn)\n",
    "history = model.fit(x_train_scaled, y_train, epochs = n_epochs, validation_data=(x_valid_scaled, y_valid), callbacks=[lr_scheduler])"
   ]
  },
  {
   "cell_type": "code",
   "execution_count": 71,
   "metadata": {},
   "outputs": [
    {
     "data": {
      "image/png": "[encoded data removed]",
      "text/plain": [
       "<Figure size 432x288 with 1 Axes>"
      ]
     },
     "metadata": {
      "needs_background": "light"
     },
     "output_type": "display_data"
    }
   ],
   "source": [
    "plt.plot(epochs, lrs, \"-\", linewidth=2)\n",
    "plt.xlabel(\"Batch\")\n",
    "plt.ylabel(\"Learning Rate\")\n",
    "plt.title(\"Exponential Scheduling (per batch)\", fontsize=14)\n",
    "plt.grid(True)\n",
    "plt.show()"
   ]
  },
  {
   "cell_type": "markdown",
   "metadata": {},
   "source": [
    "## 규제를 사용해 과대적합 피하기"
   ]
  },
  {
   "cell_type": "code",
   "execution_count": 72,
   "metadata": {},
   "outputs": [],
   "source": [
    "# l1과 l2 규제\n",
    "layer = keras.layers.Dense(100, activation='elu', \n",
    "                           kernel_initializer='he_normal', \n",
    "                           kernel_regularizer=keras.regularizers.l2(0.01))"
   ]
  },
  {
   "cell_type": "code",
   "execution_count": 73,
   "metadata": {},
   "outputs": [],
   "source": [
    "model = keras.models.Sequential([\n",
    "    keras.layers.Flatten(input_shape=[28, 28]),\n",
    "    keras.layers.Dense(300, activation ='elu',\n",
    "                      kernel_initializer='he_normal',\n",
    "                      kernel_regularizer=keras.regularizers.l2(0.01)),\n",
    "    keras.layers.Dense(100, activation ='elu',\n",
    "                      kernel_initializer='he_normal',\n",
    "                      kernel_regularizer=keras.regularizers.l2(0.01)),\n",
    "    keras.layers.Dense(300, activation ='softmax',\n",
    "                      kernel_regularizer=keras.regularizers.l2(0.01)),\n",
    "])"
   ]
  },
  {
   "cell_type": "code",
   "execution_count": 74,
   "metadata": {},
   "outputs": [],
   "source": [
    "model.compile(loss = keras.losses.sparse_categorical_crossentropy,\n",
    "             optimizer = keras.optimizers.Nadam(),\n",
    "             metrics = [keras.metrics.sparse_categorical_accuracy])"
   ]
  },
  {
   "cell_type": "code",
   "execution_count": 75,
   "metadata": {},
   "outputs": [
    {
     "name": "stdout",
     "output_type": "stream",
     "text": [
      "Train on 55000 samples, validate on 5000 samples\n",
      "Epoch 1/2\n",
      "55000/55000 [==============================] - 5s 86us/sample - loss: 1.4536 - sparse_categorical_accuracy: 0.8043 - val_loss: 0.8336 - val_sparse_categorical_accuracy: 0.7860\n",
      "Epoch 2/2\n",
      "55000/55000 [==============================] - 4s 76us/sample - loss: 0.7543 - sparse_categorical_accuracy: 0.8244 - val_loss: 0.7283 - val_sparse_categorical_accuracy: 0.8354\n"
     ]
    }
   ],
   "source": [
    "history = model.fit(x_train_scaled, y_train, epochs=2, validation_data=(x_valid_scaled, y_valid))"
   ]
  },
  {
   "cell_type": "code",
   "execution_count": 76,
   "metadata": {},
   "outputs": [],
   "source": [
    "# Code Refactoring\n",
    "from functools import partial\n",
    "\n",
    "RegularizedDense = partial(keras.layers.Dense,\n",
    "                          activation='elu',\n",
    "                          kernel_initializer = 'he_normal',\n",
    "                          kernel_regularizer = keras.regularizers.l2(0.01))\n",
    "\n",
    "model = keras.models.Sequential([\n",
    "    keras.layers.Flatten(input_shape=[28, 28]),\n",
    "    RegularizedDense(300),\n",
    "    RegularizedDense(100),\n",
    "    RegularizedDense(10, activation='softmax', kernel_initializer='glorot_uniform')\n",
    "])"
   ]
  },
  {
   "cell_type": "code",
   "execution_count": 77,
   "metadata": {},
   "outputs": [],
   "source": [
    "model.compile(loss = keras.losses.sparse_categorical_crossentropy,\n",
    "             optimizer = keras.optimizers.Nadam(),\n",
    "             metrics = [keras.metrics.sparse_categorical_accuracy])"
   ]
  },
  {
   "cell_type": "code",
   "execution_count": 78,
   "metadata": {},
   "outputs": [
    {
     "name": "stdout",
     "output_type": "stream",
     "text": [
      "Train on 55000 samples, validate on 5000 samples\n",
      "Epoch 1/2\n",
      "55000/55000 [==============================] - 4s 77us/sample - loss: 1.6002 - sparse_categorical_accuracy: 0.8123 - val_loss: 0.7244 - val_sparse_categorical_accuracy: 0.8302\n",
      "Epoch 2/2\n",
      "55000/55000 [==============================] - 4s 68us/sample - loss: 0.7185 - sparse_categorical_accuracy: 0.8282 - val_loss: 0.7158 - val_sparse_categorical_accuracy: 0.8258\n"
     ]
    }
   ],
   "source": [
    "history = model.fit(x_train_scaled, y_train, epochs=2, validation_data=(x_valid_scaled, y_valid))"
   ]
  },
  {
   "cell_type": "markdown",
   "metadata": {},
   "source": [
    "## DropOut"
   ]
  },
  {
   "cell_type": "code",
   "execution_count": 79,
   "metadata": {},
   "outputs": [],
   "source": [
    "model = keras.models.Sequential([\n",
    "    keras.layers.Flatten(input_shape=[28, 28]),\n",
    "    keras.layers.Dropout(0.2),\n",
    "    keras.layers.Dense(300, activation='elu', kernel_initializer='he_normal'),\n",
    "    keras.layers.Dropout(0.2),\n",
    "    keras.layers.Dense(100, activation='elu', kernel_initializer='he_normal'),\n",
    "    keras.layers.Dropout(0.2),\n",
    "    keras.layers.Dense(10, activation='softmax')\n",
    "])"
   ]
  },
  {
   "cell_type": "code",
   "execution_count": 80,
   "metadata": {},
   "outputs": [],
   "source": [
    "model.compile(loss = keras.losses.sparse_categorical_crossentropy,\n",
    "             optimizer = keras.optimizers.Nadam(),\n",
    "             metrics = [keras.metrics.sparse_categorical_accuracy])"
   ]
  },
  {
   "cell_type": "code",
   "execution_count": 81,
   "metadata": {},
   "outputs": [
    {
     "name": "stdout",
     "output_type": "stream",
     "text": [
      "Train on 55000 samples, validate on 5000 samples\n",
      "Epoch 1/2\n",
      "55000/55000 [==============================] - 5s 83us/sample - loss: 0.5723 - sparse_categorical_accuracy: 0.8025 - val_loss: 0.3798 - val_sparse_categorical_accuracy: 0.8570\n",
      "Epoch 2/2\n",
      "55000/55000 [==============================] - 4s 75us/sample - loss: 0.4252 - sparse_categorical_accuracy: 0.8450 - val_loss: 0.3457 - val_sparse_categorical_accuracy: 0.8690\n"
     ]
    }
   ],
   "source": [
    "history = model.fit(x_train_scaled, y_train, epochs =2 , validation_data=(x_valid_scaled, y_valid))"
   ]
  },
  {
   "cell_type": "code",
   "execution_count": 82,
   "metadata": {},
   "outputs": [],
   "source": [
    "# SELU base dropout\n",
    "model = keras.models.Sequential([\n",
    "    keras.layers.Flatten(input_shape=[28, 28]),\n",
    "    keras.layers.AlphaDropout(0.2),\n",
    "    keras.layers.Dense(300, activation='selu', kernel_initializer='lecun_normal'),\n",
    "    keras.layers.AlphaDropout(0.2),\n",
    "    keras.layers.Dense(100, activation='selu', kernel_initializer='lecun_normal'),\n",
    "    keras.layers.AlphaDropout(0.2),\n",
    "    keras.layers.Dense(10, activation='softmax')\n",
    "])\n",
    "optimizer = keras.optimizers.SGD(lr = 0.01, momentum=0.9, nesterov=True)"
   ]
  },
  {
   "cell_type": "code",
   "execution_count": 83,
   "metadata": {},
   "outputs": [],
   "source": [
    "model.compile(loss = keras.losses.sparse_categorical_crossentropy,\n",
    "             optimizer =optimizer,\n",
    "             metrics = [keras.metrics.sparse_categorical_accuracy])"
   ]
  },
  {
   "cell_type": "code",
   "execution_count": 84,
   "metadata": {},
   "outputs": [
    {
     "name": "stdout",
     "output_type": "stream",
     "text": [
      "Train on 55000 samples, validate on 5000 samples\n",
      "Epoch 1/2\n",
      "55000/55000 [==============================] - 3s 64us/sample - loss: 0.6578 - sparse_categorical_accuracy: 0.7589 - val_loss: 0.6375 - val_sparse_categorical_accuracy: 0.8308\n",
      "Epoch 2/2\n",
      "55000/55000 [==============================] - 3s 55us/sample - loss: 0.5532 - sparse_categorical_accuracy: 0.7973 - val_loss: 0.5928 - val_sparse_categorical_accuracy: 0.8410\n"
     ]
    }
   ],
   "source": [
    "history = model.fit(x_train_scaled, y_train, epochs =2 , validation_data=(x_valid_scaled, y_valid))"
   ]
  },
  {
   "cell_type": "code",
   "execution_count": 85,
   "metadata": {},
   "outputs": [
    {
     "name": "stdout",
     "output_type": "stream",
     "text": [
      "10000/10000 [==============================] - 0s 19us/sample - loss: 0.6596 - sparse_categorical_accuracy: 0.8255\n"
     ]
    },
    {
     "data": {
      "text/plain": [
       "[0.6596381865978241, 0.8255]"
      ]
     },
     "execution_count": 85,
     "metadata": {},
     "output_type": "execute_result"
    }
   ],
   "source": [
    "model.evaluate(x_test_scaled, y_test)"
   ]
  },
  {
   "cell_type": "code",
   "execution_count": 86,
   "metadata": {},
   "outputs": [
    {
     "name": "stdout",
     "output_type": "stream",
     "text": [
      "10000/10000 [==============================] - 0s 19us/sample - loss: 0.6596 - sparse_categorical_accuracy: 0.8255\n"
     ]
    },
    {
     "data": {
      "text/plain": [
       "[0.6596381865978241, 0.8255]"
      ]
     },
     "execution_count": 86,
     "metadata": {},
     "output_type": "execute_result"
    }
   ],
   "source": [
    "model.evaluate(x_test_scaled, y_test)"
   ]
  },
  {
   "cell_type": "code",
   "execution_count": 87,
   "metadata": {},
   "outputs": [
    {
     "name": "stdout",
     "output_type": "stream",
     "text": [
      "Train on 55000 samples\n",
      "55000/55000 [==============================] - 3s 53us/sample - loss: 0.5284 - sparse_categorical_accuracy: 0.8039\n"
     ]
    }
   ],
   "source": [
    "history = model.fit(x_train_scaled, y_train)"
   ]
  },
  {
   "cell_type": "markdown",
   "metadata": {},
   "source": [
    "## Monete Carlo dropout"
   ]
  },
  {
   "cell_type": "code",
   "execution_count": 88,
   "metadata": {},
   "outputs": [
    {
     "name": "stdout",
     "output_type": "stream",
     "text": [
      "WARNING:tensorflow:Layer flatten_15 is casting an input tensor from dtype float64 to the layer's dtype of float32, which is new behavior in TensorFlow 2.  The layer has dtype float32 because it's dtype defaults to floatx.\n",
      "\n",
      "If you intended to run this layer in float32, you can safely ignore this warning. If in doubt, this warning is likely only an issue if you are porting a TensorFlow 1.X model to TensorFlow 2.\n",
      "\n",
      "To change all layers to have dtype float64 by default, call `tf.keras.backend.set_floatx('float64')`. To change just this layer, pass dtype='float64' to the layer constructor. If you are the author of this layer, you can disable autocasting by passing autocast=False to the base Layer constructor.\n",
      "\n"
     ]
    }
   ],
   "source": [
    "y_probas = np.stack([model(x_test_scaled, training=True) for sample in range(100)])"
   ]
  },
  {
   "cell_type": "code",
   "execution_count": 89,
   "metadata": {},
   "outputs": [],
   "source": [
    "y_proba = y_probas.mean(axis=0)"
   ]
  },
  {
   "cell_type": "code",
   "execution_count": 90,
   "metadata": {},
   "outputs": [],
   "source": [
    "y_std = y_probas.std(axis = 0)"
   ]
  },
  {
   "cell_type": "code",
   "execution_count": 91,
   "metadata": {},
   "outputs": [
    {
     "data": {
      "text/plain": [
       "array([[0.  , 0.  , 0.  , 0.  , 0.  , 0.13, 0.  , 0.07, 0.  , 0.8 ]],\n",
       "      dtype=float32)"
      ]
     },
     "execution_count": 91,
     "metadata": {},
     "output_type": "execute_result"
    }
   ],
   "source": [
    "np.round(model.predict(x_test_scaled[:1]), 2)"
   ]
  },
  {
   "cell_type": "code",
   "execution_count": 92,
   "metadata": {},
   "outputs": [
    {
     "data": {
      "text/plain": [
       "array([[[0.  , 0.  , 0.  , 0.  , 0.  , 0.42, 0.  , 0.05, 0.01, 0.53]],\n",
       "\n",
       "       [[0.  , 0.  , 0.  , 0.  , 0.  , 0.66, 0.  , 0.19, 0.  , 0.15]],\n",
       "\n",
       "       [[0.  , 0.  , 0.  , 0.  , 0.  , 0.08, 0.  , 0.12, 0.  , 0.81]],\n",
       "\n",
       "       [[0.  , 0.  , 0.  , 0.  , 0.  , 0.84, 0.  , 0.01, 0.  , 0.15]],\n",
       "\n",
       "       [[0.  , 0.  , 0.  , 0.  , 0.  , 0.07, 0.  , 0.5 , 0.  , 0.44]],\n",
       "\n",
       "       [[0.  , 0.  , 0.  , 0.  , 0.  , 0.06, 0.  , 0.23, 0.  , 0.72]],\n",
       "\n",
       "       [[0.  , 0.  , 0.  , 0.  , 0.  , 0.16, 0.  , 0.04, 0.  , 0.8 ]],\n",
       "\n",
       "       [[0.  , 0.  , 0.  , 0.  , 0.  , 0.06, 0.  , 0.18, 0.  , 0.76]],\n",
       "\n",
       "       [[0.  , 0.  , 0.  , 0.  , 0.  , 0.35, 0.  , 0.33, 0.  , 0.32]],\n",
       "\n",
       "       [[0.  , 0.  , 0.  , 0.  , 0.  , 0.32, 0.  , 0.15, 0.  , 0.53]],\n",
       "\n",
       "       [[0.  , 0.  , 0.  , 0.  , 0.  , 0.09, 0.  , 0.02, 0.02, 0.88]],\n",
       "\n",
       "       [[0.  , 0.  , 0.  , 0.  , 0.  , 0.53, 0.  , 0.35, 0.  , 0.13]],\n",
       "\n",
       "       [[0.  , 0.  , 0.  , 0.  , 0.  , 0.05, 0.  , 0.4 , 0.  , 0.54]],\n",
       "\n",
       "       [[0.  , 0.  , 0.  , 0.  , 0.  , 0.13, 0.  , 0.54, 0.  , 0.33]],\n",
       "\n",
       "       [[0.  , 0.  , 0.  , 0.  , 0.  , 0.65, 0.  , 0.19, 0.  , 0.16]],\n",
       "\n",
       "       [[0.  , 0.  , 0.  , 0.  , 0.  , 0.18, 0.  , 0.07, 0.  , 0.75]],\n",
       "\n",
       "       [[0.  , 0.  , 0.  , 0.  , 0.  , 0.3 , 0.  , 0.06, 0.  , 0.63]],\n",
       "\n",
       "       [[0.  , 0.  , 0.  , 0.  , 0.  , 0.24, 0.  , 0.34, 0.04, 0.37]],\n",
       "\n",
       "       [[0.  , 0.  , 0.02, 0.  , 0.05, 0.07, 0.4 , 0.02, 0.27, 0.16]],\n",
       "\n",
       "       [[0.  , 0.  , 0.  , 0.  , 0.  , 0.41, 0.  , 0.14, 0.  , 0.45]],\n",
       "\n",
       "       [[0.  , 0.  , 0.  , 0.  , 0.  , 0.02, 0.  , 0.36, 0.11, 0.5 ]],\n",
       "\n",
       "       [[0.  , 0.  , 0.  , 0.  , 0.  , 0.78, 0.  , 0.01, 0.  , 0.21]],\n",
       "\n",
       "       [[0.  , 0.  , 0.  , 0.  , 0.  , 0.06, 0.  , 0.13, 0.  , 0.81]],\n",
       "\n",
       "       [[0.  , 0.  , 0.  , 0.  , 0.  , 0.06, 0.  , 0.7 , 0.  , 0.23]],\n",
       "\n",
       "       [[0.  , 0.  , 0.  , 0.  , 0.  , 0.13, 0.  , 0.06, 0.01, 0.81]],\n",
       "\n",
       "       [[0.  , 0.  , 0.  , 0.  , 0.  , 0.81, 0.  , 0.06, 0.  , 0.13]],\n",
       "\n",
       "       [[0.  , 0.  , 0.  , 0.  , 0.  , 0.5 , 0.  , 0.12, 0.  , 0.38]],\n",
       "\n",
       "       [[0.  , 0.  , 0.  , 0.  , 0.  , 0.19, 0.  , 0.77, 0.  , 0.04]],\n",
       "\n",
       "       [[0.  , 0.  , 0.  , 0.  , 0.  , 0.33, 0.  , 0.57, 0.02, 0.07]],\n",
       "\n",
       "       [[0.  , 0.  , 0.  , 0.  , 0.  , 0.58, 0.  , 0.19, 0.  , 0.23]],\n",
       "\n",
       "       [[0.  , 0.  , 0.  , 0.  , 0.  , 0.14, 0.  , 0.13, 0.  , 0.74]],\n",
       "\n",
       "       [[0.  , 0.  , 0.  , 0.  , 0.  , 0.58, 0.  , 0.09, 0.01, 0.33]],\n",
       "\n",
       "       [[0.  , 0.  , 0.  , 0.  , 0.  , 0.29, 0.  , 0.06, 0.  , 0.64]],\n",
       "\n",
       "       [[0.  , 0.  , 0.  , 0.  , 0.  , 0.16, 0.  , 0.54, 0.  , 0.3 ]],\n",
       "\n",
       "       [[0.  , 0.  , 0.  , 0.  , 0.  , 0.38, 0.  , 0.2 , 0.  , 0.42]],\n",
       "\n",
       "       [[0.  , 0.  , 0.  , 0.  , 0.  , 0.92, 0.  , 0.02, 0.  , 0.06]],\n",
       "\n",
       "       [[0.  , 0.  , 0.  , 0.  , 0.  , 0.62, 0.  , 0.09, 0.  , 0.29]],\n",
       "\n",
       "       [[0.  , 0.  , 0.  , 0.  , 0.  , 0.09, 0.  , 0.56, 0.01, 0.34]],\n",
       "\n",
       "       [[0.  , 0.  , 0.  , 0.  , 0.  , 0.05, 0.  , 0.63, 0.  , 0.32]],\n",
       "\n",
       "       [[0.  , 0.  , 0.  , 0.  , 0.  , 0.06, 0.  , 0.25, 0.  , 0.69]],\n",
       "\n",
       "       [[0.  , 0.  , 0.  , 0.01, 0.  , 0.72, 0.  , 0.03, 0.  , 0.23]],\n",
       "\n",
       "       [[0.  , 0.  , 0.  , 0.  , 0.  , 0.75, 0.  , 0.08, 0.  , 0.17]],\n",
       "\n",
       "       [[0.  , 0.  , 0.  , 0.  , 0.  , 0.27, 0.  , 0.57, 0.  , 0.15]],\n",
       "\n",
       "       [[0.  , 0.  , 0.  , 0.  , 0.  , 0.08, 0.  , 0.29, 0.  , 0.63]],\n",
       "\n",
       "       [[0.  , 0.  , 0.  , 0.  , 0.  , 0.31, 0.  , 0.22, 0.02, 0.46]],\n",
       "\n",
       "       [[0.  , 0.  , 0.  , 0.  , 0.  , 0.34, 0.  , 0.03, 0.01, 0.62]],\n",
       "\n",
       "       [[0.  , 0.  , 0.  , 0.  , 0.  , 0.31, 0.  , 0.47, 0.  , 0.22]],\n",
       "\n",
       "       [[0.  , 0.  , 0.  , 0.  , 0.  , 0.1 , 0.  , 0.22, 0.  , 0.68]],\n",
       "\n",
       "       [[0.  , 0.  , 0.  , 0.  , 0.  , 0.75, 0.  , 0.23, 0.  , 0.02]],\n",
       "\n",
       "       [[0.  , 0.  , 0.  , 0.  , 0.  , 0.02, 0.  , 0.82, 0.  , 0.17]],\n",
       "\n",
       "       [[0.  , 0.  , 0.  , 0.  , 0.  , 0.18, 0.  , 0.51, 0.  , 0.31]],\n",
       "\n",
       "       [[0.  , 0.  , 0.  , 0.  , 0.  , 0.05, 0.  , 0.49, 0.  , 0.45]],\n",
       "\n",
       "       [[0.  , 0.  , 0.  , 0.  , 0.  , 0.05, 0.  , 0.74, 0.01, 0.19]],\n",
       "\n",
       "       [[0.  , 0.  , 0.  , 0.  , 0.  , 0.81, 0.  , 0.14, 0.  , 0.05]],\n",
       "\n",
       "       [[0.  , 0.  , 0.  , 0.  , 0.  , 0.87, 0.  , 0.02, 0.  , 0.12]],\n",
       "\n",
       "       [[0.  , 0.  , 0.  , 0.  , 0.  , 0.17, 0.  , 0.33, 0.  , 0.5 ]],\n",
       "\n",
       "       [[0.  , 0.  , 0.  , 0.  , 0.  , 0.75, 0.  , 0.17, 0.  , 0.08]],\n",
       "\n",
       "       [[0.  , 0.  , 0.  , 0.  , 0.  , 0.42, 0.  , 0.27, 0.  , 0.31]],\n",
       "\n",
       "       [[0.  , 0.  , 0.  , 0.  , 0.  , 0.61, 0.  , 0.17, 0.  , 0.22]],\n",
       "\n",
       "       [[0.  , 0.  , 0.  , 0.  , 0.  , 0.09, 0.  , 0.08, 0.  , 0.83]],\n",
       "\n",
       "       [[0.  , 0.  , 0.  , 0.  , 0.  , 0.21, 0.  , 0.16, 0.01, 0.62]],\n",
       "\n",
       "       [[0.  , 0.  , 0.  , 0.  , 0.  , 0.04, 0.  , 0.02, 0.  , 0.94]],\n",
       "\n",
       "       [[0.  , 0.  , 0.  , 0.  , 0.  , 0.34, 0.  , 0.07, 0.  , 0.59]],\n",
       "\n",
       "       [[0.  , 0.  , 0.  , 0.  , 0.  , 0.71, 0.  , 0.04, 0.  , 0.26]],\n",
       "\n",
       "       [[0.  , 0.  , 0.  , 0.  , 0.  , 0.17, 0.  , 0.3 , 0.  , 0.53]],\n",
       "\n",
       "       [[0.  , 0.  , 0.  , 0.  , 0.  , 0.42, 0.  , 0.04, 0.  , 0.54]],\n",
       "\n",
       "       [[0.  , 0.  , 0.  , 0.  , 0.  , 0.31, 0.  , 0.29, 0.  , 0.4 ]],\n",
       "\n",
       "       [[0.  , 0.  , 0.  , 0.  , 0.01, 0.41, 0.03, 0.06, 0.  , 0.49]],\n",
       "\n",
       "       [[0.  , 0.  , 0.01, 0.  , 0.  , 0.31, 0.04, 0.43, 0.04, 0.16]],\n",
       "\n",
       "       [[0.  , 0.  , 0.  , 0.  , 0.  , 0.53, 0.  , 0.25, 0.  , 0.22]],\n",
       "\n",
       "       [[0.  , 0.  , 0.  , 0.  , 0.  , 0.11, 0.  , 0.47, 0.02, 0.41]],\n",
       "\n",
       "       [[0.  , 0.  , 0.  , 0.  , 0.  , 0.03, 0.  , 0.01, 0.01, 0.95]],\n",
       "\n",
       "       [[0.  , 0.  , 0.  , 0.  , 0.  , 0.68, 0.  , 0.26, 0.  , 0.06]],\n",
       "\n",
       "       [[0.  , 0.  , 0.  , 0.  , 0.  , 0.99, 0.  , 0.  , 0.  , 0.  ]],\n",
       "\n",
       "       [[0.  , 0.  , 0.  , 0.  , 0.  , 0.66, 0.  , 0.11, 0.  , 0.22]],\n",
       "\n",
       "       [[0.  , 0.  , 0.  , 0.  , 0.  , 0.03, 0.  , 0.73, 0.  , 0.24]],\n",
       "\n",
       "       [[0.  , 0.  , 0.01, 0.  , 0.  , 0.2 , 0.02, 0.23, 0.  , 0.53]],\n",
       "\n",
       "       [[0.  , 0.  , 0.  , 0.  , 0.  , 0.08, 0.  , 0.33, 0.  , 0.59]],\n",
       "\n",
       "       [[0.  , 0.  , 0.  , 0.  , 0.  , 0.39, 0.  , 0.12, 0.  , 0.49]],\n",
       "\n",
       "       [[0.  , 0.  , 0.  , 0.  , 0.  , 0.81, 0.  , 0.05, 0.  , 0.13]],\n",
       "\n",
       "       [[0.  , 0.  , 0.  , 0.  , 0.  , 0.54, 0.  , 0.3 , 0.  , 0.16]],\n",
       "\n",
       "       [[0.  , 0.  , 0.  , 0.  , 0.  , 0.25, 0.  , 0.55, 0.01, 0.19]],\n",
       "\n",
       "       [[0.  , 0.  , 0.  , 0.  , 0.  , 0.7 , 0.  , 0.18, 0.01, 0.11]],\n",
       "\n",
       "       [[0.  , 0.  , 0.  , 0.  , 0.  , 0.44, 0.  , 0.02, 0.  , 0.54]],\n",
       "\n",
       "       [[0.  , 0.  , 0.  , 0.  , 0.  , 0.91, 0.  , 0.05, 0.02, 0.02]],\n",
       "\n",
       "       [[0.  , 0.  , 0.  , 0.  , 0.  , 0.17, 0.  , 0.16, 0.  , 0.66]],\n",
       "\n",
       "       [[0.  , 0.  , 0.  , 0.  , 0.  , 0.23, 0.  , 0.06, 0.  , 0.71]],\n",
       "\n",
       "       [[0.  , 0.  , 0.  , 0.  , 0.  , 0.7 , 0.  , 0.08, 0.  , 0.22]],\n",
       "\n",
       "       [[0.  , 0.  , 0.  , 0.  , 0.  , 0.53, 0.  , 0.04, 0.  , 0.43]],\n",
       "\n",
       "       [[0.  , 0.  , 0.  , 0.  , 0.  , 0.52, 0.  , 0.41, 0.  , 0.06]],\n",
       "\n",
       "       [[0.  , 0.  , 0.  , 0.  , 0.  , 0.41, 0.  , 0.46, 0.03, 0.1 ]],\n",
       "\n",
       "       [[0.  , 0.  , 0.  , 0.  , 0.  , 0.43, 0.  , 0.26, 0.  , 0.31]],\n",
       "\n",
       "       [[0.  , 0.  , 0.  , 0.  , 0.  , 0.63, 0.  , 0.15, 0.  , 0.22]],\n",
       "\n",
       "       [[0.  , 0.  , 0.  , 0.  , 0.  , 0.15, 0.  , 0.67, 0.  , 0.18]],\n",
       "\n",
       "       [[0.  , 0.  , 0.  , 0.  , 0.  , 0.92, 0.  , 0.07, 0.  , 0.01]],\n",
       "\n",
       "       [[0.  , 0.  , 0.  , 0.  , 0.  , 0.18, 0.  , 0.5 , 0.  , 0.32]],\n",
       "\n",
       "       [[0.  , 0.  , 0.  , 0.  , 0.  , 0.53, 0.  , 0.09, 0.  , 0.38]],\n",
       "\n",
       "       [[0.  , 0.  , 0.  , 0.  , 0.  , 0.29, 0.  , 0.03, 0.  , 0.68]],\n",
       "\n",
       "       [[0.  , 0.  , 0.  , 0.  , 0.  , 0.58, 0.  , 0.23, 0.  , 0.19]],\n",
       "\n",
       "       [[0.  , 0.  , 0.  , 0.  , 0.  , 0.26, 0.  , 0.23, 0.  , 0.51]]],\n",
       "      dtype=float32)"
      ]
     },
     "execution_count": 92,
     "metadata": {},
     "output_type": "execute_result"
    }
   ],
   "source": [
    "np.round(y_probas[:, :1], 2)"
   ]
  },
  {
   "cell_type": "code",
   "execution_count": 93,
   "metadata": {},
   "outputs": [
    {
     "data": {
      "text/plain": [
       "array([[0.  , 0.  , 0.  , 0.  , 0.  , 0.37, 0.01, 0.24, 0.01, 0.38]],\n",
       "      dtype=float32)"
      ]
     },
     "execution_count": 93,
     "metadata": {},
     "output_type": "execute_result"
    }
   ],
   "source": [
    "np.round(y_proba[:1], 2)"
   ]
  },
  {
   "cell_type": "code",
   "execution_count": 94,
   "metadata": {},
   "outputs": [
    {
     "data": {
      "text/plain": [
       "array([[0.  , 0.  , 0.  , 0.  , 0.01, 0.27, 0.04, 0.21, 0.03, 0.25]],\n",
       "      dtype=float32)"
      ]
     },
     "execution_count": 94,
     "metadata": {},
     "output_type": "execute_result"
    }
   ],
   "source": [
    "np.round(y_std[:1], 2)"
   ]
  },
  {
   "cell_type": "code",
   "execution_count": 95,
   "metadata": {},
   "outputs": [
    {
     "data": {
      "text/plain": [
       "0.8424"
      ]
     },
     "execution_count": 95,
     "metadata": {},
     "output_type": "execute_result"
    }
   ],
   "source": [
    "y_pred = np.argmax(y_proba, axis=1)\n",
    "accuracy = np.sum(y_pred == y_test) / len(y_test)\n",
    "accuracy"
   ]
  },
  {
   "cell_type": "code",
   "execution_count": 96,
   "metadata": {},
   "outputs": [],
   "source": [
    "# BatchNormalization 층과 같은 층을 가지고 있으면 훈련 모드를 강제로 설정하면 안됨.\n",
    "# 대신 dropout 층 아래와 같은 클래스를 작성하여 변경할 것\n",
    "class MCDropout(keras.layers.Dropout):\n",
    "    def call(self, inputs):\n",
    "        return super().call(inputs, training =True)\n",
    "class MCAlphaDropout(keras.layers.AlphaDropout):\n",
    "    def call(self, inputs):\n",
    "        return super().call(inputs, training=True)"
   ]
  },
  {
   "cell_type": "code",
   "execution_count": 97,
   "metadata": {},
   "outputs": [],
   "source": [
    "mc_model = keras.models.Sequential([\n",
    "    MCAlphaDropout(layer.rate) if isinstance(layer, keras.layers.AlphaDropout) else layer\n",
    "    for layer in model.layers\n",
    "])"
   ]
  },
  {
   "cell_type": "code",
   "execution_count": 98,
   "metadata": {},
   "outputs": [
    {
     "name": "stdout",
     "output_type": "stream",
     "text": [
      "Model: \"sequential_17\"\n",
      "_________________________________________________________________\n",
      "Layer (type)                 Output Shape              Param #   \n",
      "=================================================================\n",
      "flatten_15 (Flatten)         (None, 784)               0         \n",
      "_________________________________________________________________\n",
      "mc_alpha_dropout (MCAlphaDro (None, 784)               0         \n",
      "_________________________________________________________________\n",
      "dense_249 (Dense)            (None, 300)               235500    \n",
      "_________________________________________________________________\n",
      "mc_alpha_dropout_1 (MCAlphaD (None, 300)               0         \n",
      "_________________________________________________________________\n",
      "dense_250 (Dense)            (None, 100)               30100     \n",
      "_________________________________________________________________\n",
      "mc_alpha_dropout_2 (MCAlphaD (None, 100)               0         \n",
      "_________________________________________________________________\n",
      "dense_251 (Dense)            (None, 10)                1010      \n",
      "=================================================================\n",
      "Total params: 266,610\n",
      "Trainable params: 266,610\n",
      "Non-trainable params: 0\n",
      "_________________________________________________________________\n"
     ]
    }
   ],
   "source": [
    "mc_model.summary()"
   ]
  },
  {
   "cell_type": "code",
   "execution_count": 99,
   "metadata": {},
   "outputs": [],
   "source": [
    "optimizer = keras.optimizers.SGD(lr =0.01, momentum=0.9, nesterov=True)"
   ]
  },
  {
   "cell_type": "code",
   "execution_count": 100,
   "metadata": {},
   "outputs": [],
   "source": [
    "mc_model.compile( loss = keras.losses.sparse_categorical_crossentropy,\n",
    "                optimizer = optimizer,\n",
    "                metrics = [keras.metrics.sparse_categorical_accuracy])"
   ]
  },
  {
   "cell_type": "code",
   "execution_count": 101,
   "metadata": {},
   "outputs": [],
   "source": [
    "mc_model.set_weights(model.get_weights())"
   ]
  },
  {
   "cell_type": "code",
   "execution_count": 102,
   "metadata": {},
   "outputs": [
    {
     "data": {
      "text/plain": [
       "array([[0.  , 0.  , 0.  , 0.  , 0.  , 0.39, 0.  , 0.22, 0.01, 0.37]],\n",
       "      dtype=float32)"
      ]
     },
     "execution_count": 102,
     "metadata": {},
     "output_type": "execute_result"
    }
   ],
   "source": [
    "# 윗 단계를 해야 mcDropout을 사용 할 수 있음.\n",
    "np.round(np.mean([mc_model.predict(x_test_scaled[:1]) for sample in range(100)], axis=0), 2)"
   ]
  },
  {
   "cell_type": "markdown",
   "metadata": {},
   "source": [
    "## MAX-Norm 규제"
   ]
  },
  {
   "cell_type": "code",
   "execution_count": 103,
   "metadata": {},
   "outputs": [],
   "source": [
    "layer = keras.layers.Dense(100, activation='elu', \n",
    "                           kernel_initializer='he_normal', \n",
    "                           kernel_constraint=keras.constraints.max_norm(1.))"
   ]
  },
  {
   "cell_type": "code",
   "execution_count": 104,
   "metadata": {},
   "outputs": [],
   "source": [
    "MaxNormDense = partial(keras.layers.Dense,\n",
    "                      activation = 'selu', kernel_initializer='lecun_normal',\n",
    "                      kernel_constraint = keras.constraints.max_norm(1.))"
   ]
  },
  {
   "cell_type": "code",
   "execution_count": 105,
   "metadata": {},
   "outputs": [],
   "source": [
    "model = keras.models.Sequential([\n",
    "    keras.layers.Flatten(input_shape=[28, 28]),\n",
    "    MaxNormDense(300),\n",
    "    MaxNormDense(100),\n",
    "    keras.layers.Dense(10, activation='softmax')\n",
    "])"
   ]
  },
  {
   "cell_type": "code",
   "execution_count": 106,
   "metadata": {},
   "outputs": [],
   "source": [
    "model.compile(loss = keras.losses.sparse_categorical_crossentropy,\n",
    "             optimizer = keras.optimizers.Nadam(),\n",
    "             metrics = [keras.metrics.sparse_categorical_accuracy])"
   ]
  },
  {
   "cell_type": "code",
   "execution_count": 108,
   "metadata": {},
   "outputs": [
    {
     "name": "stdout",
     "output_type": "stream",
     "text": [
      "Train on 55000 samples, validate on 5000 samples\n",
      "Epoch 1/10\n",
      "55000/55000 [==============================] - 4s 71us/sample - loss: 0.3296 - sparse_categorical_accuracy: 0.8779 - val_loss: 0.3365 - val_sparse_categorical_accuracy: 0.8780\n",
      "Epoch 2/10\n",
      "55000/55000 [==============================] - 4s 71us/sample - loss: 0.3178 - sparse_categorical_accuracy: 0.8817 - val_loss: 0.3460 - val_sparse_categorical_accuracy: 0.8776\n",
      "Epoch 3/10\n",
      "55000/55000 [==============================] - 4s 70us/sample - loss: 0.3115 - sparse_categorical_accuracy: 0.8836 - val_loss: 0.3453 - val_sparse_categorical_accuracy: 0.8752\n",
      "Epoch 4/10\n",
      "55000/55000 [==============================] - 4s 70us/sample - loss: 0.3063 - sparse_categorical_accuracy: 0.8858 - val_loss: 0.3665 - val_sparse_categorical_accuracy: 0.8698\n",
      "Epoch 5/10\n",
      "55000/55000 [==============================] - 4s 79us/sample - loss: 0.3072 - sparse_categorical_accuracy: 0.8863 - val_loss: 0.3368 - val_sparse_categorical_accuracy: 0.8786\n",
      "Epoch 6/10\n",
      "55000/55000 [==============================] - 4s 76us/sample - loss: 0.3043 - sparse_categorical_accuracy: 0.8881 - val_loss: 0.3338 - val_sparse_categorical_accuracy: 0.8800\n",
      "Epoch 7/10\n",
      "55000/55000 [==============================] - 4s 70us/sample - loss: 0.3028 - sparse_categorical_accuracy: 0.8872 - val_loss: 0.3733 - val_sparse_categorical_accuracy: 0.8628\n",
      "Epoch 8/10\n",
      "55000/55000 [==============================] - 4s 72us/sample - loss: 0.2990 - sparse_categorical_accuracy: 0.8880 - val_loss: 0.3300 - val_sparse_categorical_accuracy: 0.8862\n",
      "Epoch 9/10\n",
      "55000/55000 [==============================] - 4s 77us/sample - loss: 0.3008 - sparse_categorical_accuracy: 0.8877 - val_loss: 0.3708 - val_sparse_categorical_accuracy: 0.8720\n",
      "Epoch 10/10\n",
      "55000/55000 [==============================] - 32404s 589ms/sample - loss: 0.2970 - sparse_categorical_accuracy: 0.8882 - val_loss: 0.3497 - val_sparse_categorical_accuracy: 0.8762\n"
     ]
    }
   ],
   "source": [
    "history = model.fit(x_train_scaled, y_train, epochs = 10, validation_data=(x_valid_scaled, y_valid))"
   ]
  },
  {
   "cell_type": "code",
   "execution_count": null,
   "metadata": {},
   "outputs": [],
   "source": []
  }
 ],
 "metadata": {
  "kernelspec": {
   "display_name": "Python 3",
   "language": "python",
   "name": "python3"
  },
  "language_info": {
   "codemirror_mode": {
    "name": "ipython",
    "version": 3
   },
   "file_extension": ".py",
   "mimetype": "text/x-python",
   "name": "python",
   "nbconvert_exporter": "python",
   "pygments_lexer": "ipython3",
   "version": "3.7.7"
  }
 },
 "nbformat": 4,
 "nbformat_minor": 4
}
