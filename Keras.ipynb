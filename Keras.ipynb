{
 "cells": [
  {
   "cell_type": "code",
   "execution_count": 2,
   "metadata": {},
   "outputs": [],
   "source": [
    "import tensorflow as tf\n",
    "import pandas as pd\n",
    "import matplotlib.pyplot as plt"
   ]
  },
  {
   "cell_type": "code",
   "execution_count": 3,
   "metadata": {},
   "outputs": [],
   "source": [
    "from tensorflow import keras"
   ]
  },
  {
   "cell_type": "code",
   "execution_count": 4,
   "metadata": {},
   "outputs": [],
   "source": [
    "fashion_mnist = keras.datasets.fashion_mnist\n",
    "(x_train_full, y_train_full), (x_test, y_test) = fashion_mnist.load_data()"
   ]
  },
  {
   "cell_type": "code",
   "execution_count": 5,
   "metadata": {},
   "outputs": [
    {
     "data": {
      "text/plain": [
       "(60000, 28, 28)"
      ]
     },
     "execution_count": 5,
     "metadata": {},
     "output_type": "execute_result"
    }
   ],
   "source": [
    "x_train_full.shape"
   ]
  },
  {
   "cell_type": "code",
   "execution_count": 6,
   "metadata": {},
   "outputs": [
    {
     "data": {
      "text/plain": [
       "dtype('uint8')"
      ]
     },
     "execution_count": 6,
     "metadata": {},
     "output_type": "execute_result"
    }
   ],
   "source": [
    "x_train_full.dtype"
   ]
  },
  {
   "cell_type": "code",
   "execution_count": 7,
   "metadata": {},
   "outputs": [],
   "source": [
    "# Valid = 유효한\n",
    "x_valid, x_train = x_train_full[:5000] / 255.0, x_train_full[5000:] / 255.0\n",
    "y_valid, y_train = y_train_full[:5000], y_train_full[5000:]\n",
    "x_test = x_test / 255.0"
   ]
  },
  {
   "cell_type": "code",
   "execution_count": 8,
   "metadata": {},
   "outputs": [],
   "source": [
    "class_names=['T-shirt/top', 'Trouser', 'Pullover', 'Dress', 'Coat', 'Sandal', 'Shirt', 'Sneaker', 'Bag', 'Ankle boot']"
   ]
  },
  {
   "cell_type": "code",
   "execution_count": 9,
   "metadata": {},
   "outputs": [
    {
     "data": {
      "text/plain": [
       "'Coat'"
      ]
     },
     "execution_count": 9,
     "metadata": {},
     "output_type": "execute_result"
    }
   ],
   "source": [
    "class_names[y_train[0]]"
   ]
  },
  {
   "cell_type": "markdown",
   "metadata": {},
   "source": [
    "## 스퀸셜 API를 사용하여 모델 만들기"
   ]
  },
  {
   "cell_type": "code",
   "execution_count": 10,
   "metadata": {},
   "outputs": [],
   "source": [
    "# # Dence = 밀집한, Flatten = 납작해지다\n",
    "# # 모델 생성\n",
    "# model = keras.models.Sequential()\n",
    "# # 1D 배열로 변환한다. X 데이터를 받으면 reshape(-1, 1) \n",
    "# model.add(keras.layers.Flatten(input_shape=[28, 28]))\n",
    "# # 300개의 히든레이아웃 생성\n",
    "# model.add(keras.layers.Dense(300, activation='relu'))\n",
    "# model.add(keras.layers.Dense(100, activation='relu'))\n",
    "# model.add(keras.layers.Dense(10, activation='softmax'))"
   ]
  },
  {
   "cell_type": "code",
   "execution_count": 11,
   "metadata": {},
   "outputs": [],
   "source": [
    "# 리스트로 한번에 제작이 가능하다.\n",
    "model = keras.models.Sequential([\n",
    "    keras.layers.Flatten(input_shape=[28, 28]),\n",
    "    keras.layers.Dense(300, activation='relu'),\n",
    "    keras.layers.Dense(100, activation='relu'),\n",
    "    keras.layers.Dense(10, activation='softmax'),\n",
    "])"
   ]
  },
  {
   "cell_type": "code",
   "execution_count": 12,
   "metadata": {
    "scrolled": true
   },
   "outputs": [
    {
     "name": "stdout",
     "output_type": "stream",
     "text": [
      "Model: \"sequential\"\n",
      "_________________________________________________________________\n",
      "Layer (type)                 Output Shape              Param #   \n",
      "=================================================================\n",
      "flatten (Flatten)            (None, 784)               0         \n",
      "_________________________________________________________________\n",
      "dense (Dense)                (None, 300)               235500    \n",
      "_________________________________________________________________\n",
      "dense_1 (Dense)              (None, 100)               30100     \n",
      "_________________________________________________________________\n",
      "dense_2 (Dense)              (None, 10)                1010      \n",
      "=================================================================\n",
      "Total params: 266,610\n",
      "Trainable params: 266,610\n",
      "Non-trainable params: 0\n",
      "_________________________________________________________________\n"
     ]
    }
   ],
   "source": [
    "# 모든 층을 출력함\n",
    "model.summary()"
   ]
  },
  {
   "cell_type": "code",
   "execution_count": 13,
   "metadata": {},
   "outputs": [
    {
     "data": {
      "text/plain": [
       "[<tensorflow.python.keras.layers.core.Flatten at 0x63e10f790>,\n",
       " <tensorflow.python.keras.layers.core.Dense at 0x63e0fca90>,\n",
       " <tensorflow.python.keras.layers.core.Dense at 0x63e06b290>,\n",
       " <tensorflow.python.keras.layers.core.Dense at 0x63dbcd110>]"
      ]
     },
     "execution_count": 13,
     "metadata": {},
     "output_type": "execute_result"
    }
   ],
   "source": [
    "model.layers"
   ]
  },
  {
   "cell_type": "code",
   "execution_count": 14,
   "metadata": {},
   "outputs": [
    {
     "data": {
      "text/plain": [
       "'dense'"
      ]
     },
     "execution_count": 14,
     "metadata": {},
     "output_type": "execute_result"
    }
   ],
   "source": [
    "hidden1 = model.layers[1]\n",
    "hidden1.name"
   ]
  },
  {
   "cell_type": "code",
   "execution_count": 15,
   "metadata": {},
   "outputs": [
    {
     "data": {
      "text/plain": [
       "True"
      ]
     },
     "execution_count": 15,
     "metadata": {},
     "output_type": "execute_result"
    }
   ],
   "source": [
    "model.get_layer('dense') is hidden1"
   ]
  },
  {
   "cell_type": "code",
   "execution_count": 16,
   "metadata": {},
   "outputs": [],
   "source": [
    "weights, biases = hidden1.get_weights()"
   ]
  },
  {
   "cell_type": "code",
   "execution_count": 17,
   "metadata": {
    "scrolled": false
   },
   "outputs": [
    {
     "data": {
      "text/plain": [
       "array([[ 0.05289336, -0.04568748, -0.0291845 , ..., -0.02413851,\n",
       "         0.06446111,  0.02579822],\n",
       "       [ 0.01541977,  0.05658098,  0.0733774 , ..., -0.00935299,\n",
       "        -0.06828254, -0.04104311],\n",
       "       [-0.03774536, -0.00036743, -0.03046549, ...,  0.04041274,\n",
       "        -0.07286469, -0.04132295],\n",
       "       ...,\n",
       "       [ 0.04722796,  0.05638336,  0.07106623, ..., -0.03956888,\n",
       "         0.06308551,  0.00288969],\n",
       "       [ 0.05977571,  0.04922277, -0.04959454, ..., -0.00099657,\n",
       "         0.04299672, -0.0724002 ],\n",
       "       [-0.06108848,  0.07187562,  0.06381641, ..., -0.06222794,\n",
       "         0.02364846,  0.05783193]], dtype=float32)"
      ]
     },
     "execution_count": 17,
     "metadata": {},
     "output_type": "execute_result"
    }
   ],
   "source": [
    "weights"
   ]
  },
  {
   "cell_type": "code",
   "execution_count": 18,
   "metadata": {},
   "outputs": [
    {
     "data": {
      "text/plain": [
       "(784, 300)"
      ]
     },
     "execution_count": 18,
     "metadata": {},
     "output_type": "execute_result"
    }
   ],
   "source": [
    "weights.shape"
   ]
  },
  {
   "cell_type": "code",
   "execution_count": 19,
   "metadata": {},
   "outputs": [
    {
     "data": {
      "text/plain": [
       "array([0., 0., 0., 0., 0., 0., 0., 0., 0., 0., 0., 0., 0., 0., 0., 0., 0.,\n",
       "       0., 0., 0., 0., 0., 0., 0., 0., 0., 0., 0., 0., 0., 0., 0., 0., 0.,\n",
       "       0., 0., 0., 0., 0., 0., 0., 0., 0., 0., 0., 0., 0., 0., 0., 0., 0.,\n",
       "       0., 0., 0., 0., 0., 0., 0., 0., 0., 0., 0., 0., 0., 0., 0., 0., 0.,\n",
       "       0., 0., 0., 0., 0., 0., 0., 0., 0., 0., 0., 0., 0., 0., 0., 0., 0.,\n",
       "       0., 0., 0., 0., 0., 0., 0., 0., 0., 0., 0., 0., 0., 0., 0., 0., 0.,\n",
       "       0., 0., 0., 0., 0., 0., 0., 0., 0., 0., 0., 0., 0., 0., 0., 0., 0.,\n",
       "       0., 0., 0., 0., 0., 0., 0., 0., 0., 0., 0., 0., 0., 0., 0., 0., 0.,\n",
       "       0., 0., 0., 0., 0., 0., 0., 0., 0., 0., 0., 0., 0., 0., 0., 0., 0.,\n",
       "       0., 0., 0., 0., 0., 0., 0., 0., 0., 0., 0., 0., 0., 0., 0., 0., 0.,\n",
       "       0., 0., 0., 0., 0., 0., 0., 0., 0., 0., 0., 0., 0., 0., 0., 0., 0.,\n",
       "       0., 0., 0., 0., 0., 0., 0., 0., 0., 0., 0., 0., 0., 0., 0., 0., 0.,\n",
       "       0., 0., 0., 0., 0., 0., 0., 0., 0., 0., 0., 0., 0., 0., 0., 0., 0.,\n",
       "       0., 0., 0., 0., 0., 0., 0., 0., 0., 0., 0., 0., 0., 0., 0., 0., 0.,\n",
       "       0., 0., 0., 0., 0., 0., 0., 0., 0., 0., 0., 0., 0., 0., 0., 0., 0.,\n",
       "       0., 0., 0., 0., 0., 0., 0., 0., 0., 0., 0., 0., 0., 0., 0., 0., 0.,\n",
       "       0., 0., 0., 0., 0., 0., 0., 0., 0., 0., 0., 0., 0., 0., 0., 0., 0.,\n",
       "       0., 0., 0., 0., 0., 0., 0., 0., 0., 0., 0.], dtype=float32)"
      ]
     },
     "execution_count": 19,
     "metadata": {},
     "output_type": "execute_result"
    }
   ],
   "source": [
    "biases"
   ]
  },
  {
   "cell_type": "code",
   "execution_count": 20,
   "metadata": {},
   "outputs": [
    {
     "data": {
      "text/plain": [
       "(300,)"
      ]
     },
     "execution_count": 20,
     "metadata": {},
     "output_type": "execute_result"
    }
   ],
   "source": [
    "biases.shape"
   ]
  },
  {
   "cell_type": "code",
   "execution_count": 21,
   "metadata": {},
   "outputs": [],
   "source": [
    "# Model Compiler\n",
    "model.compile(loss='sparse_categorical_crossentropy',\n",
    "              optimizer = 'sgd',\n",
    "              metrics=['accuracy'])"
   ]
  },
  {
   "cell_type": "code",
   "execution_count": 22,
   "metadata": {
    "scrolled": true
   },
   "outputs": [
    {
     "name": "stdout",
     "output_type": "stream",
     "text": [
      "Train on 55000 samples, validate on 5000 samples\n",
      "Epoch 1/30\n",
      "55000/55000 [==============================] - 4s 81us/sample - loss: 0.7093 - accuracy: 0.7673 - val_loss: 0.4950 - val_accuracy: 0.8354\n",
      "Epoch 2/30\n",
      "55000/55000 [==============================] - 4s 73us/sample - loss: 0.4888 - accuracy: 0.8304 - val_loss: 0.5004 - val_accuracy: 0.8198\n",
      "Epoch 3/30\n",
      "55000/55000 [==============================] - 4s 71us/sample - loss: 0.4420 - accuracy: 0.8468 - val_loss: 0.4360 - val_accuracy: 0.8510\n",
      "Epoch 4/30\n",
      "55000/55000 [==============================] - 4s 72us/sample - loss: 0.4150 - accuracy: 0.8545 - val_loss: 0.4374 - val_accuracy: 0.8442\n",
      "Epoch 5/30\n",
      "55000/55000 [==============================] - 4s 69us/sample - loss: 0.3947 - accuracy: 0.8621 - val_loss: 0.3869 - val_accuracy: 0.8664\n",
      "Epoch 6/30\n",
      "55000/55000 [==============================] - 4s 70us/sample - loss: 0.3776 - accuracy: 0.8664 - val_loss: 0.4003 - val_accuracy: 0.8570\n",
      "Epoch 7/30\n",
      "55000/55000 [==============================] - 4s 70us/sample - loss: 0.3651 - accuracy: 0.8711 - val_loss: 0.3716 - val_accuracy: 0.8672\n",
      "Epoch 8/30\n",
      "55000/55000 [==============================] - 4s 70us/sample - loss: 0.3521 - accuracy: 0.8745 - val_loss: 0.3620 - val_accuracy: 0.8680\n",
      "Epoch 9/30\n",
      "55000/55000 [==============================] - 4s 73us/sample - loss: 0.3421 - accuracy: 0.8780 - val_loss: 0.3439 - val_accuracy: 0.8796\n",
      "Epoch 10/30\n",
      "55000/55000 [==============================] - 4s 71us/sample - loss: 0.3346 - accuracy: 0.8805 - val_loss: 0.3399 - val_accuracy: 0.8810\n",
      "Epoch 11/30\n",
      "55000/55000 [==============================] - 4s 71us/sample - loss: 0.3246 - accuracy: 0.8837 - val_loss: 0.3548 - val_accuracy: 0.8766\n",
      "Epoch 12/30\n",
      "55000/55000 [==============================] - 4s 70us/sample - loss: 0.3164 - accuracy: 0.8867 - val_loss: 0.3442 - val_accuracy: 0.8772\n",
      "Epoch 13/30\n",
      "55000/55000 [==============================] - 4s 69us/sample - loss: 0.3091 - accuracy: 0.8898 - val_loss: 0.3525 - val_accuracy: 0.8738\n",
      "Epoch 14/30\n",
      "55000/55000 [==============================] - 4s 69us/sample - loss: 0.3027 - accuracy: 0.8908 - val_loss: 0.3186 - val_accuracy: 0.8858\n",
      "Epoch 15/30\n",
      "55000/55000 [==============================] - 4s 72us/sample - loss: 0.2957 - accuracy: 0.8925 - val_loss: 0.3263 - val_accuracy: 0.8832\n",
      "Epoch 16/30\n",
      "55000/55000 [==============================] - 4s 70us/sample - loss: 0.2891 - accuracy: 0.8961 - val_loss: 0.3504 - val_accuracy: 0.8722\n",
      "Epoch 17/30\n",
      "55000/55000 [==============================] - 4s 69us/sample - loss: 0.2852 - accuracy: 0.8975 - val_loss: 0.3244 - val_accuracy: 0.8814\n",
      "Epoch 18/30\n",
      "55000/55000 [==============================] - 4s 69us/sample - loss: 0.2786 - accuracy: 0.8983 - val_loss: 0.3252 - val_accuracy: 0.8788\n",
      "Epoch 19/30\n",
      "55000/55000 [==============================] - 4s 70us/sample - loss: 0.2733 - accuracy: 0.9009 - val_loss: 0.3396 - val_accuracy: 0.8772\n",
      "Epoch 20/30\n",
      "55000/55000 [==============================] - 4s 73us/sample - loss: 0.2681 - accuracy: 0.9023 - val_loss: 0.3103 - val_accuracy: 0.8880\n",
      "Epoch 21/30\n",
      "55000/55000 [==============================] - 4s 71us/sample - loss: 0.2636 - accuracy: 0.9047 - val_loss: 0.3035 - val_accuracy: 0.8926\n",
      "Epoch 22/30\n",
      "55000/55000 [==============================] - 4s 71us/sample - loss: 0.2583 - accuracy: 0.9074 - val_loss: 0.3057 - val_accuracy: 0.8920\n",
      "Epoch 23/30\n",
      "55000/55000 [==============================] - 4s 71us/sample - loss: 0.2534 - accuracy: 0.9083 - val_loss: 0.3200 - val_accuracy: 0.8844\n",
      "Epoch 24/30\n",
      "55000/55000 [==============================] - 4s 72us/sample - loss: 0.2497 - accuracy: 0.9092 - val_loss: 0.3115 - val_accuracy: 0.8874\n",
      "Epoch 25/30\n",
      "55000/55000 [==============================] - 4s 71us/sample - loss: 0.2457 - accuracy: 0.9106 - val_loss: 0.2975 - val_accuracy: 0.8928\n",
      "Epoch 26/30\n",
      "55000/55000 [==============================] - 4s 71us/sample - loss: 0.2401 - accuracy: 0.9137 - val_loss: 0.3036 - val_accuracy: 0.8896\n",
      "Epoch 27/30\n",
      "55000/55000 [==============================] - 4s 71us/sample - loss: 0.2365 - accuracy: 0.9143 - val_loss: 0.2997 - val_accuracy: 0.8908\n",
      "Epoch 28/30\n",
      "55000/55000 [==============================] - 4s 72us/sample - loss: 0.2327 - accuracy: 0.9168 - val_loss: 0.2908 - val_accuracy: 0.8962\n",
      "Epoch 29/30\n",
      "55000/55000 [==============================] - 4s 72us/sample - loss: 0.2292 - accuracy: 0.9174 - val_loss: 0.2852 - val_accuracy: 0.8984\n",
      "Epoch 30/30\n",
      "55000/55000 [==============================] - 4s 71us/sample - loss: 0.2251 - accuracy: 0.9193 - val_loss: 0.3069 - val_accuracy: 0.8884\n"
     ]
    }
   ],
   "source": [
    "# model Training and Evalution\n",
    "history = model.fit(x_train, y_train, epochs=30, validation_data=(x_valid, y_valid))"
   ]
  },
  {
   "cell_type": "code",
   "execution_count": 23,
   "metadata": {
    "scrolled": true
   },
   "outputs": [
    {
     "data": {
      "text/plain": [
       "[0,\n",
       " 1,\n",
       " 2,\n",
       " 3,\n",
       " 4,\n",
       " 5,\n",
       " 6,\n",
       " 7,\n",
       " 8,\n",
       " 9,\n",
       " 10,\n",
       " 11,\n",
       " 12,\n",
       " 13,\n",
       " 14,\n",
       " 15,\n",
       " 16,\n",
       " 17,\n",
       " 18,\n",
       " 19,\n",
       " 20,\n",
       " 21,\n",
       " 22,\n",
       " 23,\n",
       " 24,\n",
       " 25,\n",
       " 26,\n",
       " 27,\n",
       " 28,\n",
       " 29]"
      ]
     },
     "execution_count": 23,
     "metadata": {},
     "output_type": "execute_result"
    }
   ],
   "source": [
    "# Training Epochs\n",
    "history.epoch"
   ]
  },
  {
   "cell_type": "code",
   "execution_count": 24,
   "metadata": {},
   "outputs": [
    {
     "data": {
      "text/plain": [
       "{'batch_size': 32,\n",
       " 'epochs': 30,\n",
       " 'steps': 1719,\n",
       " 'samples': 55000,\n",
       " 'verbose': 0,\n",
       " 'do_validation': True,\n",
       " 'metrics': ['loss', 'accuracy', 'val_loss', 'val_accuracy']}"
      ]
     },
     "execution_count": 24,
     "metadata": {},
     "output_type": "execute_result"
    }
   ],
   "source": [
    "# Training Parmametor\n",
    "history.params"
   ]
  },
  {
   "cell_type": "code",
   "execution_count": 25,
   "metadata": {},
   "outputs": [
    {
     "data": {
      "text/plain": [
       "{'loss': [0.7093188727552241,\n",
       "  0.48881567826271055,\n",
       "  0.4419744381124323,\n",
       "  0.41499990642721,\n",
       "  0.3946875589435751,\n",
       "  0.37755899318781766,\n",
       "  0.3651290339383212,\n",
       "  0.35205273603526027,\n",
       "  0.3421490603230216,\n",
       "  0.3345757884805853,\n",
       "  0.3245687960429625,\n",
       "  0.31643728068741883,\n",
       "  0.3091059949094599,\n",
       "  0.3027269647359848,\n",
       "  0.29574367413087327,\n",
       "  0.28913167290470815,\n",
       "  0.2851708051074635,\n",
       "  0.2786103386553851,\n",
       "  0.2733236673745242,\n",
       "  0.26814356341145257,\n",
       "  0.26363433197628366,\n",
       "  0.25825226858312433,\n",
       "  0.25340487569678916,\n",
       "  0.24965048340450632,\n",
       "  0.24565459690635855,\n",
       "  0.2400907291238958,\n",
       "  0.236498539779403,\n",
       "  0.2326941452167251,\n",
       "  0.22915604164708744,\n",
       "  0.2251010364911773],\n",
       " 'accuracy': [0.76725453,\n",
       "  0.8303818,\n",
       "  0.8467636,\n",
       "  0.8544545,\n",
       "  0.8620727,\n",
       "  0.86643636,\n",
       "  0.87105453,\n",
       "  0.87454545,\n",
       "  0.87798184,\n",
       "  0.8804727,\n",
       "  0.88374543,\n",
       "  0.8867273,\n",
       "  0.8898,\n",
       "  0.89076364,\n",
       "  0.89245456,\n",
       "  0.8961273,\n",
       "  0.89754546,\n",
       "  0.8983273,\n",
       "  0.9009454,\n",
       "  0.9022545,\n",
       "  0.90474546,\n",
       "  0.90736365,\n",
       "  0.9082909,\n",
       "  0.90918183,\n",
       "  0.9106,\n",
       "  0.9137091,\n",
       "  0.91432726,\n",
       "  0.91678184,\n",
       "  0.91743636,\n",
       "  0.9193091],\n",
       " 'val_loss': [0.49503172779083254,\n",
       "  0.5004353515386581,\n",
       "  0.4359858731508255,\n",
       "  0.4374104156374931,\n",
       "  0.3869176528930664,\n",
       "  0.40026542387604713,\n",
       "  0.3715654718756676,\n",
       "  0.3619964485168457,\n",
       "  0.343869532752037,\n",
       "  0.33992821414470675,\n",
       "  0.3548437824845314,\n",
       "  0.34424211598038673,\n",
       "  0.35248317301273346,\n",
       "  0.3186349203705788,\n",
       "  0.3262939690232277,\n",
       "  0.3504247027873993,\n",
       "  0.32437025611400605,\n",
       "  0.3251786619901657,\n",
       "  0.3396025418519974,\n",
       "  0.3103276929318905,\n",
       "  0.30354219464659693,\n",
       "  0.3057109412550926,\n",
       "  0.31995168803632257,\n",
       "  0.311481403362751,\n",
       "  0.2974826238691807,\n",
       "  0.30359149636030197,\n",
       "  0.2996869790494442,\n",
       "  0.2907889901995659,\n",
       "  0.2851774632692337,\n",
       "  0.3068991742432117],\n",
       " 'val_accuracy': [0.8354,\n",
       "  0.8198,\n",
       "  0.851,\n",
       "  0.8442,\n",
       "  0.8664,\n",
       "  0.857,\n",
       "  0.8672,\n",
       "  0.868,\n",
       "  0.8796,\n",
       "  0.881,\n",
       "  0.8766,\n",
       "  0.8772,\n",
       "  0.8738,\n",
       "  0.8858,\n",
       "  0.8832,\n",
       "  0.8722,\n",
       "  0.8814,\n",
       "  0.8788,\n",
       "  0.8772,\n",
       "  0.888,\n",
       "  0.8926,\n",
       "  0.892,\n",
       "  0.8844,\n",
       "  0.8874,\n",
       "  0.8928,\n",
       "  0.8896,\n",
       "  0.8908,\n",
       "  0.8962,\n",
       "  0.8984,\n",
       "  0.8884]}"
      ]
     },
     "execution_count": 25,
     "metadata": {},
     "output_type": "execute_result"
    }
   ],
   "source": [
    "history.history"
   ]
  },
  {
   "cell_type": "code",
   "execution_count": 1,
   "metadata": {},
   "outputs": [
    {
     "ename": "NameError",
     "evalue": "name 'pd' is not defined",
     "output_type": "error",
     "traceback": [
      "\u001b[0;31m---------------------------------------------------------------------------\u001b[0m",
      "\u001b[0;31mNameError\u001b[0m                                 Traceback (most recent call last)",
      "\u001b[0;32m<ipython-input-1-ae626e64f02a>\u001b[0m in \u001b[0;36m<module>\u001b[0;34m\u001b[0m\n\u001b[0;32m----> 1\u001b[0;31m \u001b[0mpd\u001b[0m\u001b[0;34m.\u001b[0m\u001b[0mDataFrame\u001b[0m\u001b[0;34m(\u001b[0m\u001b[0mhistory\u001b[0m\u001b[0;34m.\u001b[0m\u001b[0mhistory\u001b[0m\u001b[0;34m)\u001b[0m\u001b[0;34m.\u001b[0m\u001b[0mplot\u001b[0m\u001b[0;34m(\u001b[0m\u001b[0mfigsize\u001b[0m\u001b[0;34m=\u001b[0m\u001b[0;34m(\u001b[0m\u001b[0;36m8\u001b[0m\u001b[0;34m,\u001b[0m \u001b[0;36m5\u001b[0m\u001b[0;34m)\u001b[0m\u001b[0;34m)\u001b[0m\u001b[0;34m\u001b[0m\u001b[0;34m\u001b[0m\u001b[0m\n\u001b[0m\u001b[1;32m      2\u001b[0m \u001b[0mplt\u001b[0m\u001b[0;34m.\u001b[0m\u001b[0mgrid\u001b[0m\u001b[0;34m(\u001b[0m\u001b[0;34m)\u001b[0m\u001b[0;34m\u001b[0m\u001b[0;34m\u001b[0m\u001b[0m\n\u001b[1;32m      3\u001b[0m \u001b[0mplt\u001b[0m\u001b[0;34m.\u001b[0m\u001b[0mgca\u001b[0m\u001b[0;34m(\u001b[0m\u001b[0;34m)\u001b[0m\u001b[0;34m.\u001b[0m\u001b[0mset_ylim\u001b[0m\u001b[0;34m(\u001b[0m\u001b[0;36m0\u001b[0m\u001b[0;34m,\u001b[0m \u001b[0;36m1\u001b[0m\u001b[0;34m)\u001b[0m\u001b[0;34m\u001b[0m\u001b[0;34m\u001b[0m\u001b[0m\n\u001b[1;32m      4\u001b[0m \u001b[0mplt\u001b[0m\u001b[0;34m.\u001b[0m\u001b[0mshow\u001b[0m\u001b[0;34m(\u001b[0m\u001b[0;34m)\u001b[0m\u001b[0;34m\u001b[0m\u001b[0;34m\u001b[0m\u001b[0m\n",
      "\u001b[0;31mNameError\u001b[0m: name 'pd' is not defined"
     ]
    }
   ],
   "source": [
    "pd.DataFrame(history.history).plot(figsize=(8, 5))\n",
    "plt.grid()\n",
    "plt.gca().set_ylim(0, 1)\n",
    "plt.show()"
   ]
  },
  {
   "cell_type": "code",
   "execution_count": null,
   "metadata": {},
   "outputs": [],
   "source": []
  }
 ],
 "metadata": {
  "kernelspec": {
   "display_name": "Python 3",
   "language": "python",
   "name": "python3"
  },
  "language_info": {
   "codemirror_mode": {
    "name": "ipython",
    "version": 3
   },
   "file_extension": ".py",
   "mimetype": "text/x-python",
   "name": "python",
   "nbconvert_exporter": "python",
   "pygments_lexer": "ipython3",
   "version": "3.7.7"
  }
 },
 "nbformat": 4,
 "nbformat_minor": 4
}
