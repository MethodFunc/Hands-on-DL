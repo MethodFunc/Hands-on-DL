{
 "cells": [
  {
   "cell_type": "code",
   "execution_count": 31,
   "metadata": {},
   "outputs": [],
   "source": [
    "import tensorflow as tf\n",
    "import pandas as pd\n",
    "import matplotlib.pyplot as plt\n",
    "import numpy as np"
   ]
  },
  {
   "cell_type": "code",
   "execution_count": 2,
   "metadata": {},
   "outputs": [],
   "source": [
    "from tensorflow import keras"
   ]
  },
  {
   "cell_type": "code",
   "execution_count": 3,
   "metadata": {},
   "outputs": [
    {
     "name": "stdout",
     "output_type": "stream",
     "text": [
      "Downloading data from https://storage.googleapis.com/tensorflow/tf-keras-datasets/train-labels-idx1-ubyte.gz\n",
      "32768/29515 [=================================] - 0s 0us/step\n",
      "Downloading data from https://storage.googleapis.com/tensorflow/tf-keras-datasets/train-images-idx3-ubyte.gz\n",
      "26427392/26421880 [==============================] - 0s 0us/step\n",
      "Downloading data from https://storage.googleapis.com/tensorflow/tf-keras-datasets/t10k-labels-idx1-ubyte.gz\n",
      "8192/5148 [===============================================] - 0s 0s/step\n",
      "Downloading data from https://storage.googleapis.com/tensorflow/tf-keras-datasets/t10k-images-idx3-ubyte.gz\n",
      "4423680/4422102 [==============================] - 0s 0us/step\n"
     ]
    }
   ],
   "source": [
    "fashion_mnist = keras.datasets.fashion_mnist\n",
    "(x_train_full, y_train_full), (x_test, y_test) = fashion_mnist.load_data()"
   ]
  },
  {
   "cell_type": "code",
   "execution_count": 4,
   "metadata": {},
   "outputs": [
    {
     "data": {
      "text/plain": [
       "(60000, 28, 28)"
      ]
     },
     "execution_count": 4,
     "metadata": {},
     "output_type": "execute_result"
    }
   ],
   "source": [
    "x_train_full.shape"
   ]
  },
  {
   "cell_type": "code",
   "execution_count": 5,
   "metadata": {},
   "outputs": [
    {
     "data": {
      "text/plain": [
       "dtype('uint8')"
      ]
     },
     "execution_count": 5,
     "metadata": {},
     "output_type": "execute_result"
    }
   ],
   "source": [
    "x_train_full.dtype"
   ]
  },
  {
   "cell_type": "code",
   "execution_count": 6,
   "metadata": {},
   "outputs": [],
   "source": [
    "# Valid = 유효한\n",
    "x_valid, x_train = x_train_full[:5000] / 255.0, x_train_full[5000:] / 255.0\n",
    "y_valid, y_train = y_train_full[:5000], y_train_full[5000:]\n",
    "x_test = x_test / 255.0"
   ]
  },
  {
   "cell_type": "code",
   "execution_count": 7,
   "metadata": {},
   "outputs": [],
   "source": [
    "class_names=['T-shirt/top', 'Trouser', 'Pullover', 'Dress', 'Coat', 'Sandal', 'Shirt', 'Sneaker', 'Bag', 'Ankle boot']"
   ]
  },
  {
   "cell_type": "code",
   "execution_count": 8,
   "metadata": {},
   "outputs": [
    {
     "data": {
      "text/plain": [
       "'Coat'"
      ]
     },
     "execution_count": 8,
     "metadata": {},
     "output_type": "execute_result"
    }
   ],
   "source": [
    "class_names[y_train[0]]"
   ]
  },
  {
   "cell_type": "markdown",
   "metadata": {},
   "source": [
    "## 스퀸셜 API를 사용하여 모델 만들기"
   ]
  },
  {
   "cell_type": "code",
   "execution_count": 9,
   "metadata": {},
   "outputs": [],
   "source": [
    "# # Dence = 밀집한, Flatten = 납작해지다\n",
    "# # 모델 생성\n",
    "# model = keras.models.Sequential()\n",
    "# # 1D 배열로 변환한다. X 데이터를 받으면 reshape(-1, 1) \n",
    "# model.add(keras.layers.Flatten(input_shape=[28, 28]))\n",
    "# # 300개의 히든레이아웃 생성\n",
    "# model.add(keras.layers.Dense(300, activation='relu'))\n",
    "# model.add(keras.layers.Dense(100, activation='relu'))\n",
    "# model.add(keras.layers.Dense(10, activation='softmax'))"
   ]
  },
  {
   "cell_type": "code",
   "execution_count": 10,
   "metadata": {},
   "outputs": [],
   "source": [
    "# 리스트로 한번에 제작이 가능하다.\n",
    "model = keras.models.Sequential([\n",
    "    keras.layers.Flatten(input_shape=[28, 28]),\n",
    "    keras.layers.Dense(300, activation='relu'),\n",
    "    keras.layers.Dense(100, activation='relu'),\n",
    "    keras.layers.Dense(10, activation='softmax'),\n",
    "])"
   ]
  },
  {
   "cell_type": "code",
   "execution_count": 11,
   "metadata": {
    "scrolled": true
   },
   "outputs": [
    {
     "name": "stdout",
     "output_type": "stream",
     "text": [
      "Model: \"sequential\"\n",
      "_________________________________________________________________\n",
      "Layer (type)                 Output Shape              Param #   \n",
      "=================================================================\n",
      "flatten (Flatten)            (None, 784)               0         \n",
      "_________________________________________________________________\n",
      "dense (Dense)                (None, 300)               235500    \n",
      "_________________________________________________________________\n",
      "dense_1 (Dense)              (None, 100)               30100     \n",
      "_________________________________________________________________\n",
      "dense_2 (Dense)              (None, 10)                1010      \n",
      "=================================================================\n",
      "Total params: 266,610\n",
      "Trainable params: 266,610\n",
      "Non-trainable params: 0\n",
      "_________________________________________________________________\n"
     ]
    }
   ],
   "source": [
    "# 모든 층을 출력함\n",
    "model.summary()"
   ]
  },
  {
   "cell_type": "code",
   "execution_count": 12,
   "metadata": {},
   "outputs": [
    {
     "data": {
      "text/plain": [
       "[<tensorflow.python.keras.layers.core.Flatten at 0x187f4d0b188>,\n",
       " <tensorflow.python.keras.layers.core.Dense at 0x187f49bb948>,\n",
       " <tensorflow.python.keras.layers.core.Dense at 0x187ec235f08>,\n",
       " <tensorflow.python.keras.layers.core.Dense at 0x187f4899248>]"
      ]
     },
     "execution_count": 12,
     "metadata": {},
     "output_type": "execute_result"
    }
   ],
   "source": [
    "model.layers"
   ]
  },
  {
   "cell_type": "code",
   "execution_count": 13,
   "metadata": {},
   "outputs": [
    {
     "data": {
      "text/plain": [
       "'dense'"
      ]
     },
     "execution_count": 13,
     "metadata": {},
     "output_type": "execute_result"
    }
   ],
   "source": [
    "hidden1 = model.layers[1]\n",
    "hidden1.name"
   ]
  },
  {
   "cell_type": "code",
   "execution_count": 14,
   "metadata": {},
   "outputs": [
    {
     "data": {
      "text/plain": [
       "True"
      ]
     },
     "execution_count": 14,
     "metadata": {},
     "output_type": "execute_result"
    }
   ],
   "source": [
    "model.get_layer('dense') is hidden1"
   ]
  },
  {
   "cell_type": "code",
   "execution_count": 15,
   "metadata": {},
   "outputs": [],
   "source": [
    "weights, biases = hidden1.get_weights()"
   ]
  },
  {
   "cell_type": "code",
   "execution_count": 16,
   "metadata": {
    "scrolled": false
   },
   "outputs": [
    {
     "data": {
      "text/plain": [
       "array([[-0.00786129, -0.04643705, -0.00400778, ...,  0.03642043,\n",
       "         0.01575407,  0.01260051],\n",
       "       [-0.06120645,  0.00693961, -0.04982673, ..., -0.03669927,\n",
       "         0.05820207, -0.00561373],\n",
       "       [ 0.01660206, -0.02350342,  0.04038047, ..., -0.05355654,\n",
       "         0.01577628, -0.04358425],\n",
       "       ...,\n",
       "       [-0.02075107, -0.0666063 , -0.06453127, ...,  0.02280437,\n",
       "        -0.0442384 , -0.0331777 ],\n",
       "       [-0.03945303, -0.01962216,  0.07079045, ...,  0.00790332,\n",
       "         0.00073474,  0.04608174],\n",
       "       [ 0.0430558 , -0.04700643, -0.07198154, ...,  0.03152253,\n",
       "        -0.01952074, -0.01749045]], dtype=float32)"
      ]
     },
     "execution_count": 16,
     "metadata": {},
     "output_type": "execute_result"
    }
   ],
   "source": [
    "weights"
   ]
  },
  {
   "cell_type": "code",
   "execution_count": 17,
   "metadata": {},
   "outputs": [
    {
     "data": {
      "text/plain": [
       "(784, 300)"
      ]
     },
     "execution_count": 17,
     "metadata": {},
     "output_type": "execute_result"
    }
   ],
   "source": [
    "weights.shape"
   ]
  },
  {
   "cell_type": "code",
   "execution_count": 18,
   "metadata": {},
   "outputs": [
    {
     "data": {
      "text/plain": [
       "array([0., 0., 0., 0., 0., 0., 0., 0., 0., 0., 0., 0., 0., 0., 0., 0., 0.,\n",
       "       0., 0., 0., 0., 0., 0., 0., 0., 0., 0., 0., 0., 0., 0., 0., 0., 0.,\n",
       "       0., 0., 0., 0., 0., 0., 0., 0., 0., 0., 0., 0., 0., 0., 0., 0., 0.,\n",
       "       0., 0., 0., 0., 0., 0., 0., 0., 0., 0., 0., 0., 0., 0., 0., 0., 0.,\n",
       "       0., 0., 0., 0., 0., 0., 0., 0., 0., 0., 0., 0., 0., 0., 0., 0., 0.,\n",
       "       0., 0., 0., 0., 0., 0., 0., 0., 0., 0., 0., 0., 0., 0., 0., 0., 0.,\n",
       "       0., 0., 0., 0., 0., 0., 0., 0., 0., 0., 0., 0., 0., 0., 0., 0., 0.,\n",
       "       0., 0., 0., 0., 0., 0., 0., 0., 0., 0., 0., 0., 0., 0., 0., 0., 0.,\n",
       "       0., 0., 0., 0., 0., 0., 0., 0., 0., 0., 0., 0., 0., 0., 0., 0., 0.,\n",
       "       0., 0., 0., 0., 0., 0., 0., 0., 0., 0., 0., 0., 0., 0., 0., 0., 0.,\n",
       "       0., 0., 0., 0., 0., 0., 0., 0., 0., 0., 0., 0., 0., 0., 0., 0., 0.,\n",
       "       0., 0., 0., 0., 0., 0., 0., 0., 0., 0., 0., 0., 0., 0., 0., 0., 0.,\n",
       "       0., 0., 0., 0., 0., 0., 0., 0., 0., 0., 0., 0., 0., 0., 0., 0., 0.,\n",
       "       0., 0., 0., 0., 0., 0., 0., 0., 0., 0., 0., 0., 0., 0., 0., 0., 0.,\n",
       "       0., 0., 0., 0., 0., 0., 0., 0., 0., 0., 0., 0., 0., 0., 0., 0., 0.,\n",
       "       0., 0., 0., 0., 0., 0., 0., 0., 0., 0., 0., 0., 0., 0., 0., 0., 0.,\n",
       "       0., 0., 0., 0., 0., 0., 0., 0., 0., 0., 0., 0., 0., 0., 0., 0., 0.,\n",
       "       0., 0., 0., 0., 0., 0., 0., 0., 0., 0., 0.], dtype=float32)"
      ]
     },
     "execution_count": 18,
     "metadata": {},
     "output_type": "execute_result"
    }
   ],
   "source": [
    "biases"
   ]
  },
  {
   "cell_type": "code",
   "execution_count": 19,
   "metadata": {},
   "outputs": [
    {
     "data": {
      "text/plain": [
       "(300,)"
      ]
     },
     "execution_count": 19,
     "metadata": {},
     "output_type": "execute_result"
    }
   ],
   "source": [
    "biases.shape"
   ]
  },
  {
   "cell_type": "code",
   "execution_count": 58,
   "metadata": {},
   "outputs": [],
   "source": [
    "# Model Compiler\n",
    "model.compile(\n",
    "#               loss = keras.losses.sparse_categorical_crossentropy,\n",
    "              loss='sparse_categorical_crossentropy',\n",
    "              # optimizer = 'SGD',\n",
    "              optimizer = keras.optimizers.SGD(lr = 1e-5),\n",
    "#               metrics = [keras.metrics.sparse_categorical_accuracy]\n",
    "              metrics=['accuracy']\n",
    ")"
   ]
  },
  {
   "cell_type": "code",
   "execution_count": 41,
   "metadata": {
    "scrolled": true
   },
   "outputs": [
    {
     "name": "stdout",
     "output_type": "stream",
     "text": [
      "Train on 55000 samples, validate on 5000 samples\n",
      "Epoch 1/30\n",
      "55000/55000 [==============================] - 2s 36us/sample - loss: 0.1351 - accuracy: 0.9491 - val_loss: 0.3484 - val_accuracy: 0.8854\n",
      "Epoch 2/30\n",
      "55000/55000 [==============================] - 2s 32us/sample - loss: 0.1221 - accuracy: 0.9546 - val_loss: 0.3386 - val_accuracy: 0.8882\n",
      "Epoch 3/30\n",
      "55000/55000 [==============================] - 2s 32us/sample - loss: 0.1138 - accuracy: 0.9584 - val_loss: 0.3324 - val_accuracy: 0.8900\n",
      "Epoch 4/30\n",
      "55000/55000 [==============================] - 2s 32us/sample - loss: 0.1083 - accuracy: 0.9612 - val_loss: 0.3282 - val_accuracy: 0.8926\n",
      "Epoch 5/30\n",
      "55000/55000 [==============================] - 2s 32us/sample - loss: 0.1043 - accuracy: 0.9627 - val_loss: 0.3253 - val_accuracy: 0.8944\n",
      "Epoch 6/30\n",
      "55000/55000 [==============================] - 2s 32us/sample - loss: 0.1014 - accuracy: 0.9640 - val_loss: 0.3232 - val_accuracy: 0.8954\n",
      "Epoch 7/30\n",
      "55000/55000 [==============================] - 2s 31us/sample - loss: 0.0992 - accuracy: 0.9650 - val_loss: 0.3217 - val_accuracy: 0.8962\n",
      "Epoch 8/30\n",
      "55000/55000 [==============================] - 2s 31us/sample - loss: 0.0975 - accuracy: 0.9660 - val_loss: 0.3205 - val_accuracy: 0.8972\n",
      "Epoch 9/30\n",
      "55000/55000 [==============================] - 2s 31us/sample - loss: 0.0961 - accuracy: 0.9664 - val_loss: 0.3195 - val_accuracy: 0.8978\n",
      "Epoch 10/30\n",
      "55000/55000 [==============================] - 2s 32us/sample - loss: 0.0949 - accuracy: 0.9668 - val_loss: 0.3186 - val_accuracy: 0.8984\n",
      "Epoch 11/30\n",
      "55000/55000 [==============================] - 2s 31us/sample - loss: 0.0939 - accuracy: 0.9674 - val_loss: 0.3180 - val_accuracy: 0.9000\n",
      "Epoch 12/30\n",
      "55000/55000 [==============================] - 2s 32us/sample - loss: 0.0931 - accuracy: 0.9678 - val_loss: 0.3174 - val_accuracy: 0.8996\n",
      "Epoch 13/30\n",
      "55000/55000 [==============================] - 2s 31us/sample - loss: 0.0924 - accuracy: 0.9681 - val_loss: 0.3168 - val_accuracy: 0.9002\n",
      "Epoch 14/30\n",
      "55000/55000 [==============================] - 2s 31us/sample - loss: 0.0917 - accuracy: 0.9685 - val_loss: 0.3163 - val_accuracy: 0.9012\n",
      "Epoch 15/30\n",
      "55000/55000 [==============================] - 2s 31us/sample - loss: 0.0911 - accuracy: 0.9688 - val_loss: 0.3159 - val_accuracy: 0.9014\n",
      "Epoch 16/30\n",
      "55000/55000 [==============================] - 2s 32us/sample - loss: 0.0906 - accuracy: 0.9693 - val_loss: 0.3155 - val_accuracy: 0.9014\n",
      "Epoch 17/30\n",
      "55000/55000 [==============================] - 2s 32us/sample - loss: 0.0901 - accuracy: 0.9696 - val_loss: 0.3151 - val_accuracy: 0.9018\n",
      "Epoch 18/30\n",
      "55000/55000 [==============================] - 2s 31us/sample - loss: 0.0897 - accuracy: 0.9700 - val_loss: 0.3148 - val_accuracy: 0.9018\n",
      "Epoch 19/30\n",
      "55000/55000 [==============================] - 2s 32us/sample - loss: 0.0893 - accuracy: 0.9700 - val_loss: 0.3144 - val_accuracy: 0.9016\n",
      "Epoch 20/30\n",
      "55000/55000 [==============================] - 2s 32us/sample - loss: 0.0889 - accuracy: 0.9702 - val_loss: 0.3141 - val_accuracy: 0.9020\n",
      "Epoch 21/30\n",
      "55000/55000 [==============================] - 2s 31us/sample - loss: 0.0885 - accuracy: 0.9703 - val_loss: 0.3139 - val_accuracy: 0.9018\n",
      "Epoch 22/30\n",
      "55000/55000 [==============================] - 2s 31us/sample - loss: 0.0882 - accuracy: 0.9705 - val_loss: 0.3136 - val_accuracy: 0.9016\n",
      "Epoch 23/30\n",
      "55000/55000 [==============================] - 2s 32us/sample - loss: 0.0879 - accuracy: 0.9705 - val_loss: 0.3133 - val_accuracy: 0.9016\n",
      "Epoch 24/30\n",
      "55000/55000 [==============================] - 2s 32us/sample - loss: 0.0876 - accuracy: 0.9707 - val_loss: 0.3131 - val_accuracy: 0.9016\n",
      "Epoch 25/30\n",
      "55000/55000 [==============================] - 2s 32us/sample - loss: 0.0873 - accuracy: 0.9708 - val_loss: 0.3128 - val_accuracy: 0.9012\n",
      "Epoch 26/30\n",
      "55000/55000 [==============================] - 2s 32us/sample - loss: 0.0870 - accuracy: 0.9709 - val_loss: 0.3126 - val_accuracy: 0.9016\n",
      "Epoch 27/30\n",
      "55000/55000 [==============================] - 2s 32us/sample - loss: 0.0867 - accuracy: 0.9710 - val_loss: 0.3123 - val_accuracy: 0.9016\n",
      "Epoch 28/30\n",
      "55000/55000 [==============================] - 2s 31us/sample - loss: 0.0865 - accuracy: 0.9712 - val_loss: 0.3121 - val_accuracy: 0.9016\n",
      "Epoch 29/30\n",
      "55000/55000 [==============================] - 2s 32us/sample - loss: 0.0863 - accuracy: 0.9714 - val_loss: 0.3119 - val_accuracy: 0.9018\n",
      "Epoch 30/30\n",
      "55000/55000 [==============================] - 2s 32us/sample - loss: 0.0860 - accuracy: 0.9715 - val_loss: 0.3117 - val_accuracy: 0.9012\n"
     ]
    }
   ],
   "source": [
    "# model Training and Evalution\n",
    "history = model.fit(x_train, y_train, epochs=30, validation_data=(x_valid, y_valid))"
   ]
  },
  {
   "cell_type": "code",
   "execution_count": 36,
   "metadata": {
    "scrolled": true
   },
   "outputs": [
    {
     "data": {
      "text/plain": [
       "[0,\n",
       " 1,\n",
       " 2,\n",
       " 3,\n",
       " 4,\n",
       " 5,\n",
       " 6,\n",
       " 7,\n",
       " 8,\n",
       " 9,\n",
       " 10,\n",
       " 11,\n",
       " 12,\n",
       " 13,\n",
       " 14,\n",
       " 15,\n",
       " 16,\n",
       " 17,\n",
       " 18,\n",
       " 19,\n",
       " 20,\n",
       " 21,\n",
       " 22,\n",
       " 23,\n",
       " 24,\n",
       " 25,\n",
       " 26,\n",
       " 27,\n",
       " 28,\n",
       " 29]"
      ]
     },
     "execution_count": 36,
     "metadata": {},
     "output_type": "execute_result"
    }
   ],
   "source": [
    "# Training Epochs\n",
    "history.epoch"
   ]
  },
  {
   "cell_type": "code",
   "execution_count": 42,
   "metadata": {},
   "outputs": [
    {
     "data": {
      "text/plain": [
       "{'batch_size': 32,\n",
       " 'epochs': 30,\n",
       " 'steps': 1719,\n",
       " 'samples': 55000,\n",
       " 'verbose': 0,\n",
       " 'do_validation': True,\n",
       " 'metrics': ['loss', 'accuracy', 'val_loss', 'val_accuracy']}"
      ]
     },
     "execution_count": 42,
     "metadata": {},
     "output_type": "execute_result"
    }
   ],
   "source": [
    "# Training Parmametor\n",
    "history.params"
   ]
  },
  {
   "cell_type": "code",
   "execution_count": 43,
   "metadata": {},
   "outputs": [
    {
     "data": {
      "text/plain": [
       "{'loss': [0.1351417988321998,\n",
       "  0.12209425744224678,\n",
       "  0.11383775660964576,\n",
       "  0.1082603420631452,\n",
       "  0.10431533219191161,\n",
       "  0.10142096235183153,\n",
       "  0.09921341506513683,\n",
       "  0.0974790941531008,\n",
       "  0.09608082214241678,\n",
       "  0.09492298237166621,\n",
       "  0.09394789831692522,\n",
       "  0.09311068830354648,\n",
       "  0.09237823601039973,\n",
       "  0.09172740855650469,\n",
       "  0.09114274119382555,\n",
       "  0.09061333394348621,\n",
       "  0.09012749590115114,\n",
       "  0.08967939920371229,\n",
       "  0.08926524424187161,\n",
       "  0.08887997255542061,\n",
       "  0.08851944898990068,\n",
       "  0.08817991973540999,\n",
       "  0.087860434757444,\n",
       "  0.08755863007130948,\n",
       "  0.08727227465252985,\n",
       "  0.08700137268873778,\n",
       "  0.08674315288256515,\n",
       "  0.08649629568267952,\n",
       "  0.08626030696305362,\n",
       "  0.08603402071188797],\n",
       " 'accuracy': [0.94914544,\n",
       "  0.9545818,\n",
       "  0.9584,\n",
       "  0.9612,\n",
       "  0.96272725,\n",
       "  0.96401817,\n",
       "  0.9650364,\n",
       "  0.9660364,\n",
       "  0.9664364,\n",
       "  0.9667636,\n",
       "  0.96736366,\n",
       "  0.96778184,\n",
       "  0.9681091,\n",
       "  0.96854544,\n",
       "  0.9688182,\n",
       "  0.9692909,\n",
       "  0.9696364,\n",
       "  0.9699636,\n",
       "  0.9699818,\n",
       "  0.97023636,\n",
       "  0.97032726,\n",
       "  0.97047275,\n",
       "  0.97047275,\n",
       "  0.97065455,\n",
       "  0.9707818,\n",
       "  0.9709091,\n",
       "  0.9710364,\n",
       "  0.97121817,\n",
       "  0.9714,\n",
       "  0.9714909],\n",
       " 'val_loss': [0.3484417683906853,\n",
       "  0.33858115324750543,\n",
       "  0.3323697412088513,\n",
       "  0.32824664850980045,\n",
       "  0.32533358512707056,\n",
       "  0.3232360302217305,\n",
       "  0.32168441608808934,\n",
       "  0.3204560133304447,\n",
       "  0.3194602693170309,\n",
       "  0.31864034822918474,\n",
       "  0.3179575232047588,\n",
       "  0.3173560240209103,\n",
       "  0.3168238761648536,\n",
       "  0.3163472388252616,\n",
       "  0.3159064275469631,\n",
       "  0.3155022255204618,\n",
       "  0.31512339326292277,\n",
       "  0.3147742382965982,\n",
       "  0.31444805681742727,\n",
       "  0.31414361059442164,\n",
       "  0.31385575393140314,\n",
       "  0.31358240804970267,\n",
       "  0.3133130049791187,\n",
       "  0.3130542183376849,\n",
       "  0.31280751090943815,\n",
       "  0.31256883559003473,\n",
       "  0.3123420611053705,\n",
       "  0.3121209680788219,\n",
       "  0.31190737040527167,\n",
       "  0.3117069203965366],\n",
       " 'val_accuracy': [0.8854,\n",
       "  0.8882,\n",
       "  0.89,\n",
       "  0.8926,\n",
       "  0.8944,\n",
       "  0.8954,\n",
       "  0.8962,\n",
       "  0.8972,\n",
       "  0.8978,\n",
       "  0.8984,\n",
       "  0.9,\n",
       "  0.8996,\n",
       "  0.9002,\n",
       "  0.9012,\n",
       "  0.9014,\n",
       "  0.9014,\n",
       "  0.9018,\n",
       "  0.9018,\n",
       "  0.9016,\n",
       "  0.902,\n",
       "  0.9018,\n",
       "  0.9016,\n",
       "  0.9016,\n",
       "  0.9016,\n",
       "  0.9012,\n",
       "  0.9016,\n",
       "  0.9016,\n",
       "  0.9016,\n",
       "  0.9018,\n",
       "  0.9012]}"
      ]
     },
     "execution_count": 43,
     "metadata": {},
     "output_type": "execute_result"
    }
   ],
   "source": [
    "history.history"
   ]
  },
  {
   "cell_type": "code",
   "execution_count": 44,
   "metadata": {},
   "outputs": [
    {
     "data": {
      "image/png": "[encoded data removed]",
      "text/plain": [
       "<Figure size 576x360 with 1 Axes>"
      ]
     },
     "metadata": {
      "needs_background": "light"
     },
     "output_type": "display_data"
    }
   ],
   "source": [
    "pd.DataFrame(history.history).plot(figsize=(8, 5))\n",
    "plt.grid()\n",
    "plt.gca().set_ylim(0, 1)\n",
    "plt.show()"
   ]
  },
  {
   "cell_type": "code",
   "execution_count": 26,
   "metadata": {},
   "outputs": [
    {
     "name": "stdout",
     "output_type": "stream",
     "text": [
      "10000/10000 [==============================] - 0s 17us/sample - loss: 0.3219 - accuracy: 0.8874\n"
     ]
    },
    {
     "data": {
      "text/plain": [
       "[0.3219098321259022, 0.8874]"
      ]
     },
     "execution_count": 26,
     "metadata": {},
     "output_type": "execute_result"
    }
   ],
   "source": [
    "model.evaluate(x_test, y_test)"
   ]
  },
  {
   "cell_type": "code",
   "execution_count": 28,
   "metadata": {},
   "outputs": [
    {
     "data": {
      "text/plain": [
       "array([[0.  , 0.  , 0.  , 0.  , 0.  , 0.01, 0.  , 0.01, 0.  , 0.99],\n",
       "       [0.  , 0.  , 1.  , 0.  , 0.  , 0.  , 0.  , 0.  , 0.  , 0.  ],\n",
       "       [0.  , 1.  , 0.  , 0.  , 0.  , 0.  , 0.  , 0.  , 0.  , 0.  ]],\n",
       "      dtype=float32)"
      ]
     },
     "execution_count": 28,
     "metadata": {},
     "output_type": "execute_result"
    }
   ],
   "source": [
    "x_new = x_test[:3]\n",
    "y_proba = model.predict(x_new)\n",
    "y_proba.round(2)"
   ]
  },
  {
   "cell_type": "code",
   "execution_count": 29,
   "metadata": {},
   "outputs": [
    {
     "data": {
      "text/plain": [
       "array([9, 2, 1], dtype=int64)"
      ]
     },
     "execution_count": 29,
     "metadata": {},
     "output_type": "execute_result"
    }
   ],
   "source": [
    "y_pred = model.predict_classes(x_new)\n",
    "y_pred"
   ]
  },
  {
   "cell_type": "code",
   "execution_count": 32,
   "metadata": {},
   "outputs": [
    {
     "data": {
      "text/plain": [
       "array(['Ankle boot', 'Pullover', 'Trouser'], dtype='<U11')"
      ]
     },
     "execution_count": 32,
     "metadata": {},
     "output_type": "execute_result"
    }
   ],
   "source": [
    "np.array(class_names)[y_pred]"
   ]
  },
  {
   "cell_type": "code",
   "execution_count": 33,
   "metadata": {},
   "outputs": [
    {
     "data": {
      "text/plain": [
       "array([9, 2, 1], dtype=uint8)"
      ]
     },
     "execution_count": 33,
     "metadata": {},
     "output_type": "execute_result"
    }
   ],
   "source": [
    "y_new = y_test[:3]\n",
    "y_new"
   ]
  },
  {
   "cell_type": "code",
   "execution_count": null,
   "metadata": {},
   "outputs": [],
   "source": []
  }
 ],
 "metadata": {
  "kernelspec": {
   "display_name": "Python 3",
   "language": "python",
   "name": "python3"
  },
  "language_info": {
   "codemirror_mode": {
    "name": "ipython",
    "version": 3
   },
   "file_extension": ".py",
   "mimetype": "text/x-python",
   "name": "python",
   "nbconvert_exporter": "python",
   "pygments_lexer": "ipython3",
   "version": "3.7.7"
  }
 },
 "nbformat": 4,
 "nbformat_minor": 4
}
